{
  "cells": [
    {
      "cell_type": "markdown",
      "metadata": {
        "id": "c28b481b"
      },
      "source": [
        "<h2>1. Language detection using ML</h2>"
      ],
      "id": "c28b481b"
    },
    {
      "cell_type": "markdown",
      "metadata": {
        "id": "c021bbd5"
      },
      "source": [
        "<h4><i>1. import data</i></h4>"
      ],
      "id": "c021bbd5"
    },
    {
      "cell_type": "code",
      "execution_count": null,
      "metadata": {
        "id": "6bff556b"
      },
      "outputs": [],
      "source": [
        "import pandas as pd\n",
        "import numpy as np\n",
        "from sklearn.feature_extraction.text import CountVectorizer\n",
        "from sklearn.model_selection import train_test_split\n",
        "from sklearn.naive_bayes import MultinomialNB\n",
        "from sklearn.metrics import classification_report\n"
      ],
      "id": "6bff556b"
    },
    {
      "cell_type": "code",
      "execution_count": null,
      "metadata": {
        "id": "531f20c9"
      },
      "outputs": [],
      "source": [
        "languageDetectionData = pd.read_csv(\"./Language Detection.csv\")"
      ],
      "id": "531f20c9"
    },
    {
      "cell_type": "code",
      "execution_count": null,
      "metadata": {
        "colab": {
          "base_uri": "https://localhost:8080/",
          "height": 206
        },
        "id": "fdff85cb",
        "outputId": "c9a257d5-1671-4707-bf79-f063eaabd7ec"
      },
      "outputs": [
        {
          "data": {
            "text/html": [
              "\n",
              "  <div id=\"df-ecd2d272-a94a-4b94-ba31-40f207762c1a\">\n",
              "    <div class=\"colab-df-container\">\n",
              "      <div>\n",
              "<style scoped>\n",
              "    .dataframe tbody tr th:only-of-type {\n",
              "        vertical-align: middle;\n",
              "    }\n",
              "\n",
              "    .dataframe tbody tr th {\n",
              "        vertical-align: top;\n",
              "    }\n",
              "\n",
              "    .dataframe thead th {\n",
              "        text-align: right;\n",
              "    }\n",
              "</style>\n",
              "<table border=\"1\" class=\"dataframe\">\n",
              "  <thead>\n",
              "    <tr style=\"text-align: right;\">\n",
              "      <th></th>\n",
              "      <th>Text</th>\n",
              "      <th>Language</th>\n",
              "    </tr>\n",
              "  </thead>\n",
              "  <tbody>\n",
              "    <tr>\n",
              "      <th>0</th>\n",
              "      <td>Nature, in the broadest sense, is the natural...</td>\n",
              "      <td>English</td>\n",
              "    </tr>\n",
              "    <tr>\n",
              "      <th>1</th>\n",
              "      <td>\"Nature\" can refer to the phenomena of the phy...</td>\n",
              "      <td>English</td>\n",
              "    </tr>\n",
              "    <tr>\n",
              "      <th>2</th>\n",
              "      <td>The study of nature is a large, if not the onl...</td>\n",
              "      <td>English</td>\n",
              "    </tr>\n",
              "    <tr>\n",
              "      <th>3</th>\n",
              "      <td>Although humans are part of nature, human acti...</td>\n",
              "      <td>English</td>\n",
              "    </tr>\n",
              "    <tr>\n",
              "      <th>4</th>\n",
              "      <td>[1] The word nature is borrowed from the Old F...</td>\n",
              "      <td>English</td>\n",
              "    </tr>\n",
              "  </tbody>\n",
              "</table>\n",
              "</div>\n",
              "      <button class=\"colab-df-convert\" onclick=\"convertToInteractive('df-ecd2d272-a94a-4b94-ba31-40f207762c1a')\"\n",
              "              title=\"Convert this dataframe to an interactive table.\"\n",
              "              style=\"display:none;\">\n",
              "        \n",
              "  <svg xmlns=\"http://www.w3.org/2000/svg\" height=\"24px\"viewBox=\"0 0 24 24\"\n",
              "       width=\"24px\">\n",
              "    <path d=\"M0 0h24v24H0V0z\" fill=\"none\"/>\n",
              "    <path d=\"M18.56 5.44l.94 2.06.94-2.06 2.06-.94-2.06-.94-.94-2.06-.94 2.06-2.06.94zm-11 1L8.5 8.5l.94-2.06 2.06-.94-2.06-.94L8.5 2.5l-.94 2.06-2.06.94zm10 10l.94 2.06.94-2.06 2.06-.94-2.06-.94-.94-2.06-.94 2.06-2.06.94z\"/><path d=\"M17.41 7.96l-1.37-1.37c-.4-.4-.92-.59-1.43-.59-.52 0-1.04.2-1.43.59L10.3 9.45l-7.72 7.72c-.78.78-.78 2.05 0 2.83L4 21.41c.39.39.9.59 1.41.59.51 0 1.02-.2 1.41-.59l7.78-7.78 2.81-2.81c.8-.78.8-2.07 0-2.86zM5.41 20L4 18.59l7.72-7.72 1.47 1.35L5.41 20z\"/>\n",
              "  </svg>\n",
              "      </button>\n",
              "      \n",
              "  <style>\n",
              "    .colab-df-container {\n",
              "      display:flex;\n",
              "      flex-wrap:wrap;\n",
              "      gap: 12px;\n",
              "    }\n",
              "\n",
              "    .colab-df-convert {\n",
              "      background-color: #E8F0FE;\n",
              "      border: none;\n",
              "      border-radius: 50%;\n",
              "      cursor: pointer;\n",
              "      display: none;\n",
              "      fill: #1967D2;\n",
              "      height: 32px;\n",
              "      padding: 0 0 0 0;\n",
              "      width: 32px;\n",
              "    }\n",
              "\n",
              "    .colab-df-convert:hover {\n",
              "      background-color: #E2EBFA;\n",
              "      box-shadow: 0px 1px 2px rgba(60, 64, 67, 0.3), 0px 1px 3px 1px rgba(60, 64, 67, 0.15);\n",
              "      fill: #174EA6;\n",
              "    }\n",
              "\n",
              "    [theme=dark] .colab-df-convert {\n",
              "      background-color: #3B4455;\n",
              "      fill: #D2E3FC;\n",
              "    }\n",
              "\n",
              "    [theme=dark] .colab-df-convert:hover {\n",
              "      background-color: #434B5C;\n",
              "      box-shadow: 0px 1px 3px 1px rgba(0, 0, 0, 0.15);\n",
              "      filter: drop-shadow(0px 1px 2px rgba(0, 0, 0, 0.3));\n",
              "      fill: #FFFFFF;\n",
              "    }\n",
              "  </style>\n",
              "\n",
              "      <script>\n",
              "        const buttonEl =\n",
              "          document.querySelector('#df-ecd2d272-a94a-4b94-ba31-40f207762c1a button.colab-df-convert');\n",
              "        buttonEl.style.display =\n",
              "          google.colab.kernel.accessAllowed ? 'block' : 'none';\n",
              "\n",
              "        async function convertToInteractive(key) {\n",
              "          const element = document.querySelector('#df-ecd2d272-a94a-4b94-ba31-40f207762c1a');\n",
              "          const dataTable =\n",
              "            await google.colab.kernel.invokeFunction('convertToInteractive',\n",
              "                                                     [key], {});\n",
              "          if (!dataTable) return;\n",
              "\n",
              "          const docLinkHtml = 'Like what you see? Visit the ' +\n",
              "            '<a target=\"_blank\" href=https://colab.research.google.com/notebooks/data_table.ipynb>data table notebook</a>'\n",
              "            + ' to learn more about interactive tables.';\n",
              "          element.innerHTML = '';\n",
              "          dataTable['output_type'] = 'display_data';\n",
              "          await google.colab.output.renderOutput(dataTable, element);\n",
              "          const docLink = document.createElement('div');\n",
              "          docLink.innerHTML = docLinkHtml;\n",
              "          element.appendChild(docLink);\n",
              "        }\n",
              "      </script>\n",
              "    </div>\n",
              "  </div>\n",
              "  "
            ],
            "text/plain": [
              "                                                Text Language\n",
              "0   Nature, in the broadest sense, is the natural...  English\n",
              "1  \"Nature\" can refer to the phenomena of the phy...  English\n",
              "2  The study of nature is a large, if not the onl...  English\n",
              "3  Although humans are part of nature, human acti...  English\n",
              "4  [1] The word nature is borrowed from the Old F...  English"
            ]
          },
          "execution_count": 3,
          "metadata": {},
          "output_type": "execute_result"
        }
      ],
      "source": [
        "data.head()"
      ],
      "id": "fdff85cb"
    },
    {
      "cell_type": "code",
      "execution_count": null,
      "metadata": {
        "id": "a7bae7a1"
      },
      "outputs": [],
      "source": [
        "data.isnull().sum()"
      ],
      "id": "a7bae7a1"
    },
    {
      "cell_type": "code",
      "execution_count": null,
      "metadata": {
        "colab": {
          "base_uri": "https://localhost:8080/"
        },
        "id": "3ed197a5",
        "outputId": "ae8b6bc0-d8d4-4687-9fca-a6cc9b84cb28"
      },
      "outputs": [
        {
          "data": {
            "text/plain": [
              "English       1385\n",
              "French        1014\n",
              "Spanish        819\n",
              "Portugeese     739\n",
              "Italian        698\n",
              "Russian        692\n",
              "Sweedish       676\n",
              "Malayalam      594\n",
              "Dutch          546\n",
              "Arabic         536\n",
              "Turkish        474\n",
              "German         470\n",
              "Tamil          469\n",
              "Danish         428\n",
              "Kannada        369\n",
              "Greek          365\n",
              "Hindi           63\n",
              "Name: Language, dtype: int64"
            ]
          },
          "execution_count": 62,
          "metadata": {},
          "output_type": "execute_result"
        }
      ],
      "source": [
        "languageDetectionData['Language'].value_counts()"
      ],
      "id": "3ed197a5"
    },
    {
      "cell_type": "code",
      "execution_count": null,
      "metadata": {
        "id": "37002ebc"
      },
      "outputs": [],
      "source": [
        "from sklearn.datasets import make_classification\n",
        "from imblearn.over_sampling import SMOTE\n"
      ],
      "id": "37002ebc"
    },
    {
      "cell_type": "code",
      "execution_count": null,
      "metadata": {
        "colab": {
          "background_save": true
        },
        "id": "b32e1e76"
      },
      "outputs": [],
      "source": [
        "from imblearn.pipeline import Pipeline, make_pipeline\n",
        "from sklearn.feature_extraction.text import CountVectorizer\n",
        "from sklearn.feature_extraction.text import TfidfTransformer\n",
        "from sklearn.naive_bayes import MultinomialNB"
      ],
      "id": "b32e1e76"
    },
    {
      "cell_type": "code",
      "execution_count": null,
      "metadata": {
        "id": "3ec56cd2"
      },
      "outputs": [],
      "source": [
        "from sklearn.model_selection import train_test_split\n",
        "\n",
        "X_train, X_test, y_train, y_test = train_test_split(languageDetectionData['Text'],\n",
        "                               languageDetectionData['Language'],stratify=languageDetectionData['Language'], random_state=0\n",
        ")"
      ],
      "id": "3ec56cd2"
    },
    {
      "cell_type": "code",
      "execution_count": null,
      "metadata": {
        "id": "2f2767d6"
      },
      "outputs": [],
      "source": [
        "languageDetector =Pipeline([\n",
        "  ('vect', CountVectorizer()),\n",
        "   ('tfidf', TfidfTransformer()),\n",
        "   ('mnb', MultinomialNB(alpha =0.1))\n",
        "])"
      ],
      "id": "2f2767d6"
    },
    {
      "cell_type": "code",
      "execution_count": null,
      "metadata": {
        "colab": {
          "base_uri": "https://localhost:8080/"
        },
        "id": "ade8c663",
        "outputId": "d3009b87-194a-4b03-a74f-5b27ad074666"
      },
      "outputs": [
        {
          "data": {
            "text/plain": [
              "Pipeline(steps=[('vect', CountVectorizer()), ('tfidf', TfidfTransformer()),\n",
              "                ('mnb', MultinomialNB(alpha=0.1))])"
            ]
          },
          "execution_count": 68,
          "metadata": {},
          "output_type": "execute_result"
        }
      ],
      "source": [
        "languageDetector.fit(X_train, y_train)"
      ],
      "id": "ade8c663"
    },
    {
      "cell_type": "code",
      "execution_count": null,
      "metadata": {
        "id": "5e8d5c98"
      },
      "outputs": [],
      "source": [
        "x_test=X_test.tolist()"
      ],
      "id": "5e8d5c98"
    },
    {
      "cell_type": "code",
      "execution_count": null,
      "metadata": {
        "id": "90eef04d"
      },
      "outputs": [],
      "source": [
        "result=languageDetector.predict(x_test)"
      ],
      "id": "90eef04d"
    },
    {
      "cell_type": "code",
      "execution_count": null,
      "metadata": {
        "id": "22427928"
      },
      "outputs": [],
      "source": [
        "def language(txt):\n",
        "  return languageDetector.predict([txt])[0]"
      ],
      "id": "22427928"
    },
    {
      "cell_type": "code",
      "execution_count": null,
      "metadata": {
        "colab": {
          "base_uri": "https://localhost:8080/",
          "height": 35
        },
        "id": "_m2IxLw3Sy9D",
        "outputId": "5da89c0c-1ac9-4115-d351-9ff03b6a27a2"
      },
      "outputs": [
        {
          "data": {
            "application/vnd.google.colaboratory.intrinsic+json": {
              "type": "string"
            },
            "text/plain": [
              "'Spanish'"
            ]
          },
          "execution_count": 12,
          "metadata": {},
          "output_type": "execute_result"
        }
      ],
      "source": [
        "w=language(\"vida /\")\n",
        "w"
      ],
      "id": "_m2IxLw3Sy9D"
    },
    {
      "cell_type": "code",
      "execution_count": null,
      "metadata": {
        "colab": {
          "base_uri": "https://localhost:8080/"
        },
        "id": "1837d8c0",
        "outputId": "59d24d45-1927-4407-9303-4d3fc236bfd5"
      },
      "outputs": [
        {
          "name": "stdout",
          "output_type": "stream",
          "text": [
            "              precision    recall  f1-score   support\n",
            "\n",
            "      Arabic       1.00      0.96      0.98       134\n",
            "      Danish       1.00      0.96      0.98       107\n",
            "       Dutch       1.00      0.99      0.99       137\n",
            "     English       0.88      1.00      0.94       346\n",
            "      French       0.99      0.98      0.99       254\n",
            "      German       1.00      0.98      0.99       117\n",
            "       Greek       1.00      1.00      1.00        91\n",
            "       Hindi       1.00      1.00      1.00        16\n",
            "     Italian       0.98      0.97      0.98       175\n",
            "     Kannada       1.00      0.96      0.98        92\n",
            "   Malayalam       1.00      0.99      1.00       149\n",
            "  Portugeese       0.98      0.98      0.98       185\n",
            "     Russian       1.00      0.96      0.98       173\n",
            "     Spanish       0.98      0.96      0.97       205\n",
            "    Sweedish       0.99      0.98      0.99       169\n",
            "       Tamil       1.00      0.98      0.99       117\n",
            "     Turkish       1.00      0.92      0.96       118\n",
            "\n",
            "    accuracy                           0.98      2585\n",
            "   macro avg       0.99      0.97      0.98      2585\n",
            "weighted avg       0.98      0.98      0.98      2585\n",
            "\n"
          ]
        }
      ],
      "source": [
        "print(classification_report(y_test, result))"
      ],
      "id": "1837d8c0"
    },
    {
      "cell_type": "markdown",
      "metadata": {
        "id": "a311d0a9"
      },
      "source": [
        "<h1>2. Sentiment analysis</h1>"
      ],
      "id": "a311d0a9"
    },
    {
      "cell_type": "markdown",
      "metadata": {
        "id": "9b0f0b8b"
      },
      "source": [
        "<h3>2.1 SA using logistic regression</h3>"
      ],
      "id": "9b0f0b8b"
    },
    {
      "cell_type": "markdown",
      "metadata": {
        "id": "d17bd84a"
      },
      "source": [
        "<h4>2.1.1 import data and libraries</h4>"
      ],
      "id": "d17bd84a"
    },
    {
      "cell_type": "code",
      "execution_count": null,
      "metadata": {
        "id": "0de9e80a"
      },
      "outputs": [],
      "source": [
        "import pandas as pd\n",
        "import numpy as np\n",
        "import nltk\n",
        "import string\n",
        "import matplotlib.pyplot as plt\n",
        "import seaborn as sns\n",
        "from sklearn.feature_extraction.text import TfidfTransformer\n",
        "from sklearn.feature_extraction.text import TfidfVectorizer\n",
        "\n",
        "from sklearn.feature_extraction.text import CountVectorizer\n",
        "from sklearn.metrics import confusion_matrix\n",
        "from sklearn import metrics\n",
        "from sklearn.metrics import roc_curve, auc\n",
        "from nltk.stem.porter import PorterStemmer\n",
        "from sklearn.preprocessing import StandardScaler\n",
        "\n",
        "import re\n",
        "\n",
        "import string\n",
        "from nltk.corpus import stopwords\n",
        "from nltk.stem import PorterStemmer\n",
        "from nltk.stem.wordnet import WordNetLemmatizer\n",
        "\n",
        "from gensim.models import Word2Vec\n",
        "from gensim.models import KeyedVectors\n",
        "\n",
        "import pickle\n",
        "\n",
        "from tqdm import tqdm\n",
        "import os\n",
        "from sklearn.model_selection import train_test_split\n",
        "from sklearn.neighbors import KNeighborsClassifier\n",
        "from sklearn.metrics import accuracy_score\n",
        "from sklearn.model_selection import cross_val_score\n",
        "from collections import Counter\n",
        "from sklearn.metrics import accuracy_score\n",
        "from sklearn.model_selection import cross_validate\n",
        "from sklearn.linear_model import LogisticRegression\n",
        "from sklearn.metrics import roc_auc_score\n",
        "import matplotlib.pyplot as plt\n",
        "from sklearn.metrics import roc_curve, auc\n",
        "from sklearn.metrics import confusion_matrix\n",
        "import seaborn as sns"
      ],
      "id": "0de9e80a"
    },
    {
      "cell_type": "code",
      "execution_count": null,
      "metadata": {
        "id": "f89191ed"
      },
      "outputs": [],
      "source": [
        "dataset=pd.read_csv(\"./amazon/Reviews.csv\")"
      ],
      "id": "f89191ed"
    },
    {
      "cell_type": "code",
      "execution_count": null,
      "metadata": {
        "id": "fee940ab",
        "outputId": "5747bf50-e02c-4a02-d260-26cf83b110c2"
      },
      "outputs": [
        {
          "data": {
            "text/html": [
              "<div>\n",
              "<style scoped>\n",
              "    .dataframe tbody tr th:only-of-type {\n",
              "        vertical-align: middle;\n",
              "    }\n",
              "\n",
              "    .dataframe tbody tr th {\n",
              "        vertical-align: top;\n",
              "    }\n",
              "\n",
              "    .dataframe thead th {\n",
              "        text-align: right;\n",
              "    }\n",
              "</style>\n",
              "<table border=\"1\" class=\"dataframe\">\n",
              "  <thead>\n",
              "    <tr style=\"text-align: right;\">\n",
              "      <th></th>\n",
              "      <th>Id</th>\n",
              "      <th>ProductId</th>\n",
              "      <th>UserId</th>\n",
              "      <th>ProfileName</th>\n",
              "      <th>HelpfulnessNumerator</th>\n",
              "      <th>HelpfulnessDenominator</th>\n",
              "      <th>Score</th>\n",
              "      <th>Time</th>\n",
              "      <th>Summary</th>\n",
              "      <th>Text</th>\n",
              "    </tr>\n",
              "  </thead>\n",
              "  <tbody>\n",
              "    <tr>\n",
              "      <th>0</th>\n",
              "      <td>1</td>\n",
              "      <td>B001E4KFG0</td>\n",
              "      <td>A3SGXH7AUHU8GW</td>\n",
              "      <td>delmartian</td>\n",
              "      <td>1</td>\n",
              "      <td>1</td>\n",
              "      <td>5</td>\n",
              "      <td>1303862400</td>\n",
              "      <td>Good Quality Dog Food</td>\n",
              "      <td>I have bought several of the Vitality canned d...</td>\n",
              "    </tr>\n",
              "    <tr>\n",
              "      <th>1</th>\n",
              "      <td>2</td>\n",
              "      <td>B00813GRG4</td>\n",
              "      <td>A1D87F6ZCVE5NK</td>\n",
              "      <td>dll pa</td>\n",
              "      <td>0</td>\n",
              "      <td>0</td>\n",
              "      <td>1</td>\n",
              "      <td>1346976000</td>\n",
              "      <td>Not as Advertised</td>\n",
              "      <td>Product arrived labeled as Jumbo Salted Peanut...</td>\n",
              "    </tr>\n",
              "    <tr>\n",
              "      <th>2</th>\n",
              "      <td>3</td>\n",
              "      <td>B000LQOCH0</td>\n",
              "      <td>ABXLMWJIXXAIN</td>\n",
              "      <td>Natalia Corres \"Natalia Corres\"</td>\n",
              "      <td>1</td>\n",
              "      <td>1</td>\n",
              "      <td>4</td>\n",
              "      <td>1219017600</td>\n",
              "      <td>\"Delight\" says it all</td>\n",
              "      <td>This is a confection that has been around a fe...</td>\n",
              "    </tr>\n",
              "    <tr>\n",
              "      <th>3</th>\n",
              "      <td>4</td>\n",
              "      <td>B000UA0QIQ</td>\n",
              "      <td>A395BORC6FGVXV</td>\n",
              "      <td>Karl</td>\n",
              "      <td>3</td>\n",
              "      <td>3</td>\n",
              "      <td>2</td>\n",
              "      <td>1307923200</td>\n",
              "      <td>Cough Medicine</td>\n",
              "      <td>If you are looking for the secret ingredient i...</td>\n",
              "    </tr>\n",
              "    <tr>\n",
              "      <th>4</th>\n",
              "      <td>5</td>\n",
              "      <td>B006K2ZZ7K</td>\n",
              "      <td>A1UQRSCLF8GW1T</td>\n",
              "      <td>Michael D. Bigham \"M. Wassir\"</td>\n",
              "      <td>0</td>\n",
              "      <td>0</td>\n",
              "      <td>5</td>\n",
              "      <td>1350777600</td>\n",
              "      <td>Great taffy</td>\n",
              "      <td>Great taffy at a great price.  There was a wid...</td>\n",
              "    </tr>\n",
              "  </tbody>\n",
              "</table>\n",
              "</div>"
            ],
            "text/plain": [
              "   Id   ProductId          UserId                      ProfileName  \\\n",
              "0   1  B001E4KFG0  A3SGXH7AUHU8GW                       delmartian   \n",
              "1   2  B00813GRG4  A1D87F6ZCVE5NK                           dll pa   \n",
              "2   3  B000LQOCH0   ABXLMWJIXXAIN  Natalia Corres \"Natalia Corres\"   \n",
              "3   4  B000UA0QIQ  A395BORC6FGVXV                             Karl   \n",
              "4   5  B006K2ZZ7K  A1UQRSCLF8GW1T    Michael D. Bigham \"M. Wassir\"   \n",
              "\n",
              "   HelpfulnessNumerator  HelpfulnessDenominator  Score        Time  \\\n",
              "0                     1                       1      5  1303862400   \n",
              "1                     0                       0      1  1346976000   \n",
              "2                     1                       1      4  1219017600   \n",
              "3                     3                       3      2  1307923200   \n",
              "4                     0                       0      5  1350777600   \n",
              "\n",
              "                 Summary                                               Text  \n",
              "0  Good Quality Dog Food  I have bought several of the Vitality canned d...  \n",
              "1      Not as Advertised  Product arrived labeled as Jumbo Salted Peanut...  \n",
              "2  \"Delight\" says it all  This is a confection that has been around a fe...  \n",
              "3         Cough Medicine  If you are looking for the secret ingredient i...  \n",
              "4            Great taffy  Great taffy at a great price.  There was a wid...  "
            ]
          },
          "execution_count": 43,
          "metadata": {},
          "output_type": "execute_result"
        }
      ],
      "source": [
        "dataset.head()"
      ],
      "id": "fee940ab"
    },
    {
      "cell_type": "code",
      "execution_count": null,
      "metadata": {
        "id": "e6d14881",
        "outputId": "bd37fd0a-9dba-4e8c-db6c-8564fd724a63"
      },
      "outputs": [
        {
          "data": {
            "text/plain": [
              "(568454, 10)"
            ]
          },
          "execution_count": 46,
          "metadata": {},
          "output_type": "execute_result"
        }
      ],
      "source": [
        "dataset.shape"
      ],
      "id": "e6d14881"
    },
    {
      "cell_type": "code",
      "execution_count": null,
      "metadata": {
        "id": "61cd3e9c"
      },
      "outputs": [],
      "source": [
        "dataset=dataset.iloc[:15000]"
      ],
      "id": "61cd3e9c"
    },
    {
      "cell_type": "code",
      "execution_count": null,
      "metadata": {
        "id": "eedac677"
      },
      "outputs": [],
      "source": [],
      "id": "eedac677"
    },
    {
      "cell_type": "markdown",
      "metadata": {
        "id": "78bae239"
      },
      "source": [
        "<h4>2.1.2 filter reviews</h4>"
      ],
      "id": "78bae239"
    },
    {
      "cell_type": "markdown",
      "metadata": {
        "id": "aab5db8e"
      },
      "source": [
        "Give reviews with Score>3 a positive rating, and reviews with a score<3 a negative rating"
      ],
      "id": "aab5db8e"
    },
    {
      "cell_type": "code",
      "execution_count": null,
      "metadata": {
        "id": "9ea14434"
      },
      "outputs": [],
      "source": [
        "def filter(x):\n",
        "    if x < 3:\n",
        "        return 0\n",
        "    return 1"
      ],
      "id": "9ea14434"
    },
    {
      "cell_type": "code",
      "execution_count": null,
      "metadata": {
        "id": "15fc0943",
        "outputId": "ebbd1656-4e31-4aa3-8524-d6ee6d0092e3"
      },
      "outputs": [
        {
          "name": "stdout",
          "output_type": "stream",
          "text": [
            "Number of data points in our data (15000, 10)\n"
          ]
        },
        {
          "data": {
            "text/html": [
              "<div>\n",
              "<style scoped>\n",
              "    .dataframe tbody tr th:only-of-type {\n",
              "        vertical-align: middle;\n",
              "    }\n",
              "\n",
              "    .dataframe tbody tr th {\n",
              "        vertical-align: top;\n",
              "    }\n",
              "\n",
              "    .dataframe thead th {\n",
              "        text-align: right;\n",
              "    }\n",
              "</style>\n",
              "<table border=\"1\" class=\"dataframe\">\n",
              "  <thead>\n",
              "    <tr style=\"text-align: right;\">\n",
              "      <th></th>\n",
              "      <th>Id</th>\n",
              "      <th>ProductId</th>\n",
              "      <th>UserId</th>\n",
              "      <th>ProfileName</th>\n",
              "      <th>HelpfulnessNumerator</th>\n",
              "      <th>HelpfulnessDenominator</th>\n",
              "      <th>Score</th>\n",
              "      <th>Time</th>\n",
              "      <th>Summary</th>\n",
              "      <th>Text</th>\n",
              "    </tr>\n",
              "  </thead>\n",
              "  <tbody>\n",
              "    <tr>\n",
              "      <th>0</th>\n",
              "      <td>1</td>\n",
              "      <td>B001E4KFG0</td>\n",
              "      <td>A3SGXH7AUHU8GW</td>\n",
              "      <td>delmartian</td>\n",
              "      <td>1</td>\n",
              "      <td>1</td>\n",
              "      <td>1</td>\n",
              "      <td>1303862400</td>\n",
              "      <td>Good Quality Dog Food</td>\n",
              "      <td>I have bought several of the Vitality canned d...</td>\n",
              "    </tr>\n",
              "    <tr>\n",
              "      <th>1</th>\n",
              "      <td>2</td>\n",
              "      <td>B00813GRG4</td>\n",
              "      <td>A1D87F6ZCVE5NK</td>\n",
              "      <td>dll pa</td>\n",
              "      <td>0</td>\n",
              "      <td>0</td>\n",
              "      <td>0</td>\n",
              "      <td>1346976000</td>\n",
              "      <td>Not as Advertised</td>\n",
              "      <td>Product arrived labeled as Jumbo Salted Peanut...</td>\n",
              "    </tr>\n",
              "    <tr>\n",
              "      <th>2</th>\n",
              "      <td>3</td>\n",
              "      <td>B000LQOCH0</td>\n",
              "      <td>ABXLMWJIXXAIN</td>\n",
              "      <td>Natalia Corres \"Natalia Corres\"</td>\n",
              "      <td>1</td>\n",
              "      <td>1</td>\n",
              "      <td>1</td>\n",
              "      <td>1219017600</td>\n",
              "      <td>\"Delight\" says it all</td>\n",
              "      <td>This is a confection that has been around a fe...</td>\n",
              "    </tr>\n",
              "    <tr>\n",
              "      <th>3</th>\n",
              "      <td>4</td>\n",
              "      <td>B000UA0QIQ</td>\n",
              "      <td>A395BORC6FGVXV</td>\n",
              "      <td>Karl</td>\n",
              "      <td>3</td>\n",
              "      <td>3</td>\n",
              "      <td>0</td>\n",
              "      <td>1307923200</td>\n",
              "      <td>Cough Medicine</td>\n",
              "      <td>If you are looking for the secret ingredient i...</td>\n",
              "    </tr>\n",
              "    <tr>\n",
              "      <th>4</th>\n",
              "      <td>5</td>\n",
              "      <td>B006K2ZZ7K</td>\n",
              "      <td>A1UQRSCLF8GW1T</td>\n",
              "      <td>Michael D. Bigham \"M. Wassir\"</td>\n",
              "      <td>0</td>\n",
              "      <td>0</td>\n",
              "      <td>1</td>\n",
              "      <td>1350777600</td>\n",
              "      <td>Great taffy</td>\n",
              "      <td>Great taffy at a great price.  There was a wid...</td>\n",
              "    </tr>\n",
              "  </tbody>\n",
              "</table>\n",
              "</div>"
            ],
            "text/plain": [
              "   Id   ProductId          UserId                      ProfileName  \\\n",
              "0   1  B001E4KFG0  A3SGXH7AUHU8GW                       delmartian   \n",
              "1   2  B00813GRG4  A1D87F6ZCVE5NK                           dll pa   \n",
              "2   3  B000LQOCH0   ABXLMWJIXXAIN  Natalia Corres \"Natalia Corres\"   \n",
              "3   4  B000UA0QIQ  A395BORC6FGVXV                             Karl   \n",
              "4   5  B006K2ZZ7K  A1UQRSCLF8GW1T    Michael D. Bigham \"M. Wassir\"   \n",
              "\n",
              "   HelpfulnessNumerator  HelpfulnessDenominator  Score        Time  \\\n",
              "0                     1                       1      1  1303862400   \n",
              "1                     0                       0      0  1346976000   \n",
              "2                     1                       1      1  1219017600   \n",
              "3                     3                       3      0  1307923200   \n",
              "4                     0                       0      1  1350777600   \n",
              "\n",
              "                 Summary                                               Text  \n",
              "0  Good Quality Dog Food  I have bought several of the Vitality canned d...  \n",
              "1      Not as Advertised  Product arrived labeled as Jumbo Salted Peanut...  \n",
              "2  \"Delight\" says it all  This is a confection that has been around a fe...  \n",
              "3         Cough Medicine  If you are looking for the secret ingredient i...  \n",
              "4            Great taffy  Great taffy at a great price.  There was a wid...  "
            ]
          },
          "execution_count": 50,
          "metadata": {},
          "output_type": "execute_result"
        }
      ],
      "source": [
        "dataset['Score'] = dataset['Score'].map(filter)\n",
        "\n",
        "print(\"Number of data points in our data\", dataset.shape)\n",
        "dataset.head(5)"
      ],
      "id": "15fc0943"
    },
    {
      "cell_type": "markdown",
      "metadata": {
        "id": "c77ecc9c"
      },
      "source": [
        "<h4>2.1.3 data exploration</h4>"
      ],
      "id": "c77ecc9c"
    },
    {
      "cell_type": "code",
      "execution_count": null,
      "metadata": {
        "id": "6943b4e4",
        "outputId": "e821579b-4947-41c5-c837-e556db094bf9"
      },
      "outputs": [
        {
          "data": {
            "text/plain": [
              "(15000, 10)"
            ]
          },
          "execution_count": 52,
          "metadata": {},
          "output_type": "execute_result"
        }
      ],
      "source": [
        "dataset.shape"
      ],
      "id": "6943b4e4"
    },
    {
      "cell_type": "code",
      "execution_count": null,
      "metadata": {
        "id": "f143b3e2",
        "outputId": "0bd7070d-9c37-4744-92c3-955ea010a5f1"
      },
      "outputs": [
        {
          "name": "stdout",
          "output_type": "stream",
          "text": [
            "1    12735\n",
            "0     2265\n",
            "Name: Score, dtype: int64\n"
          ]
        },
        {
          "data": {
            "text/plain": [
              "<AxesSubplot:>"
            ]
          },
          "execution_count": 53,
          "metadata": {},
          "output_type": "execute_result"
        },
        {
          "data": {
            "image/png": "[encoded data removed]",
            "text/plain": [
              "<Figure size 432x288 with 1 Axes>"
            ]
          },
          "metadata": {},
          "output_type": "display_data"
        }
      ],
      "source": [
        "print(dataset['Score'].value_counts())\n",
        "dataset['Score'].value_counts().plot(kind='bar')"
      ],
      "id": "f143b3e2"
    },
    {
      "cell_type": "markdown",
      "metadata": {
        "id": "1918b501"
      },
      "source": [
        "<h4>2.1.4 Text Preprocessing: Stemming, stop-word removal and Lemmatization</h4>"
      ],
      "id": "1918b501"
    },
    {
      "cell_type": "code",
      "execution_count": null,
      "metadata": {
        "id": "5079ffa0",
        "outputId": "f8c74d2b-a663-49e5-e55b-06e705ad1116"
      },
      "outputs": [
        {
          "name": "stdout",
          "output_type": "stream",
          "text": [
            "I have bought several of the Vitality canned dog food products and have found them all to be of good quality. The product looks more like a stew than a processed meat and it smells better. My Labrador is finicky and she appreciates this product better than  most.\n",
            "====================================================================================================\n",
            "I never in my life tasted such a good babka its crazy good! This is the real babka! That my gram mother use to make\n"
          ]
        }
      ],
      "source": [
        "review1= dataset['Text'].values[0]\n",
        "print(review1)\n",
        "print(\"=\"*100)\n",
        "\n",
        "review2= dataset['Text'].values[1000]\n",
        "print(review2)"
      ],
      "id": "5079ffa0"
    },
    {
      "cell_type": "code",
      "execution_count": null,
      "metadata": {
        "id": "fcbc5052"
      },
      "outputs": [],
      "source": [
        "import re\n",
        "#this function coonver short word in full words\n",
        "def decontracted(phrase):\n",
        "\n",
        "    phrase = re.sub(r\"won't\", \"will not\", phrase)\n",
        "    phrase = re.sub(r\"can\\'t\", \"can not\", phrase)\n",
        "\n",
        "    phrase = re.sub(r\"n\\'t\", \" not\", phrase)\n",
        "    phrase = re.sub(r\"\\'re\", \" are\", phrase)\n",
        "    phrase = re.sub(r\"\\'s\", \" is\", phrase)\n",
        "    phrase = re.sub(r\"\\'d\", \" would\", phrase)\n",
        "    phrase = re.sub(r\"\\'ll\", \" will\", phrase)\n",
        "    phrase = re.sub(r\"\\'t\", \" not\", phrase)\n",
        "    phrase = re.sub(r\"\\'ve\", \" have\", phrase)\n",
        "    phrase = re.sub(r\"\\'m\", \" am\", phrase)\n",
        "    return phrase"
      ],
      "id": "fcbc5052"
    },
    {
      "cell_type": "code",
      "execution_count": null,
      "metadata": {
        "id": "53f5ef2f",
        "outputId": "bc8067ff-fefa-4784-ced8-8d81a7e20397"
      },
      "outputs": [
        {
          "name": "stderr",
          "output_type": "stream",
          "text": [
            "100%|███████████████████████████████████| 15000/15000 [00:02<00:00, 5343.29it/s]\n"
          ]
        },
        {
          "data": {
            "text/plain": [
              "'find dollars less diapers com reason charging much'"
            ]
          },
          "execution_count": 63,
          "metadata": {},
          "output_type": "execute_result"
        }
      ],
      "source": [
        "from tqdm import tqdm\n",
        "preprocessed_reviews = []\n",
        "\n",
        "\n",
        "for sentence in tqdm(dataset['Text'].values):\n",
        "    sentence = re.sub(r\"http\\S+\", \"\", sentence)\n",
        "    #sentance = BeautifulSoup(sentance, 'lxml').get_text()\n",
        "    sentence = decontracted(sentence)\n",
        "    sentence = re.sub(\"\\S*\\d\\S*\", \"\", sentence).strip()\n",
        "    sentence = re.sub('[^A-Za-z]+', ' ', sentence)\n",
        "\n",
        "    sentence = ' '.join(e.lower() for e in sentence.split() if e.lower() not in stop)\n",
        "    preprocessed_reviews.append(sentence.strip())\n",
        "preprocessed_reviews[1500]"
      ],
      "id": "53f5ef2f"
    },
    {
      "cell_type": "code",
      "execution_count": null,
      "metadata": {
        "id": "6035d634"
      },
      "outputs": [],
      "source": [
        "dataset['preprocessed_reviews']=preprocessed_reviews"
      ],
      "id": "6035d634"
    },
    {
      "cell_type": "code",
      "execution_count": null,
      "metadata": {
        "id": "5d3974b6",
        "outputId": "13be9471-4387-4c6f-f11f-f9f696b3fa6f"
      },
      "outputs": [
        {
          "data": {
            "text/plain": [
              "0    I have bought several of the Vitality canned d...\n",
              "1    Product arrived labeled as Jumbo Salted Peanut...\n",
              "2    This is a confection that has been around a fe...\n",
              "3    If you are looking for the secret ingredient i...\n",
              "4    Great taffy at a great price.  There was a wid...\n",
              "Name: Text, dtype: object"
            ]
          },
          "execution_count": 66,
          "metadata": {},
          "output_type": "execute_result"
        }
      ],
      "source": [
        "dataset['Text'].head()"
      ],
      "id": "5d3974b6"
    },
    {
      "cell_type": "markdown",
      "metadata": {
        "id": "945f0353"
      },
      "source": [
        "<h4> 2.1.5 splitting data into Train, C.V and Test</h4>"
      ],
      "id": "945f0353"
    },
    {
      "cell_type": "code",
      "execution_count": null,
      "metadata": {
        "id": "0d50052c",
        "outputId": "42b9876e-485f-42d6-ddf3-599e44c31734"
      },
      "outputs": [
        {
          "name": "stdout",
          "output_type": "stream",
          "text": [
            "Train: (6733,) (6733,)\n",
            "Cross validation: (3317,) (3317,)\n",
            "Test: (4950,) (4950,)\n"
          ]
        }
      ],
      "source": [
        "X_train, X_test, y_train, y_test = train_test_split(dataset['preprocessed_reviews'], dataset['Score'], test_size=0.33)\n",
        "X_train, X_cv, y_train, y_cv = train_test_split(X_train, y_train, test_size=0.33)\n",
        "print(\"Train:\",X_train.shape,y_train.shape)\n",
        "print(\"Cross validation:\",X_cv.shape,y_cv.shape)\n",
        "print(\"Test:\",X_test.shape,y_test.shape)"
      ],
      "id": "0d50052c"
    },
    {
      "cell_type": "markdown",
      "metadata": {
        "id": "38218c38"
      },
      "source": [
        "<h4>2.1.6 vectorization and standarization</h4>"
      ],
      "id": "38218c38"
    },
    {
      "cell_type": "code",
      "execution_count": null,
      "metadata": {
        "id": "796ab083",
        "outputId": "4fab0014-94a8-4d5a-eed6-566cc7173355"
      },
      "outputs": [
        {
          "name": "stdout",
          "output_type": "stream",
          "text": [
            "After vectorizations\n",
            "(6733, 15422) (6733,)\n",
            "(3317, 15422) (3317,)\n",
            "(4950, 15422) (4950,)\n",
            "Standardization\n",
            "(6733, 15422) (6733,)\n",
            "(3317, 15422) (3317,)\n",
            "(4950, 15422) (4950,)\n"
          ]
        }
      ],
      "source": [
        "vect = TfidfVectorizer(lowercase=True)\n",
        "\n",
        "# we use the fitted CountVectorizer to convert the text to vector\n",
        "X_train_tfidf = vect.fit_transform(X_train)\n",
        "X_cv_tfidf = vect.transform(X_cv)\n",
        "X_test_tfidf = vect.transform(X_test)\n",
        "print(\"After vectorizations\")\n",
        "print(X_train_tfidf.shape, y_train.shape)\n",
        "print(X_cv_tfidf.shape, y_cv.shape)\n",
        "print(X_test_tfidf.shape, y_test.shape)\n",
        "print(\"Standardization\")\n",
        "X_train_tfidf=StandardScaler(with_mean=False).fit_transform(X_train_tfidf)\n",
        "X_cv_tfidf=StandardScaler(with_mean=False).fit_transform(X_cv_tfidf)\n",
        "X_test_tfidf=StandardScaler(with_mean=False).fit_transform(X_test_tfidf)\n",
        "print(X_train_tfidf.shape, y_train.shape)\n",
        "print(X_cv_tfidf.shape, y_cv.shape)\n",
        "print(X_test_tfidf.shape, y_test.shape)\n"
      ],
      "id": "796ab083"
    },
    {
      "cell_type": "markdown",
      "metadata": {
        "id": "309ef61f"
      },
      "source": [
        "<h4>2.1.7  TF-IDF</h4>"
      ],
      "id": "309ef61f"
    },
    {
      "cell_type": "code",
      "execution_count": null,
      "metadata": {
        "id": "b9a8e01c",
        "outputId": "cdfc5c0d-d144-42a0-8903-aa2d468c3b69"
      },
      "outputs": [
        {
          "data": {
            "image/png": "[encoded data removed]",
            "text/plain": [
              "<Figure size 432x288 with 1 Axes>"
            ]
          },
          "metadata": {},
          "output_type": "display_data"
        }
      ],
      "source": [
        "#Testing with test data\n",
        "model = LogisticRegression(penalty='l2',C=0.01)\n",
        "model.fit(X_train_tfidf, y_train)\n",
        "\n",
        "# roc_auc_score(y_true, y_score) the 2nd parameter should be probability estimates of the p\n",
        "# not the predicted outputs\n",
        "train_fpr,train_tpr,thresholds = roc_curve(y_train, model.predict_proba(X_train_tfidf)[:,1] )\n",
        "test_fpr,test_tpr,thresholds = roc_curve(y_test, model.predict_proba(X_test_tfidf)[:,1])\n",
        "plt.plot(train_fpr, train_tpr, label=\"train AUC =\"+str(auc(train_fpr, train_tpr)))\n",
        "plt.plot(test_fpr, test_tpr, label=\"test AUC =\"+str(auc(test_fpr, test_tpr)))\n",
        "plt.legend()\n",
        "plt.xlabel(\"C_values: hyperparameter\")\n",
        "plt.ylabel(\"AUC\")\n",
        "plt.title(\"ERROR PLOTS\")\n",
        "plt.show()"
      ],
      "id": "b9a8e01c"
    },
    {
      "cell_type": "markdown",
      "metadata": {
        "id": "729f3dbe"
      },
      "source": [
        "<h4>2.1.8 Confusion matrix</h4>"
      ],
      "id": "729f3dbe"
    },
    {
      "cell_type": "code",
      "execution_count": null,
      "metadata": {
        "id": "75b13aa3",
        "outputId": "c2c25599-e4b2-4c60-9800-8879b80a743c"
      },
      "outputs": [
        {
          "name": "stdout",
          "output_type": "stream",
          "text": [
            "Train confusion matrix\n",
            "[[1016    1]\n",
            " [   0 5716]]\n",
            "Test confusion matrix\n",
            "[[ 240  505]\n",
            " [  79 4126]]\n"
          ]
        },
        {
          "data": {
            "image/png": "[encoded data removed]",
            "text/plain": [
              "<Figure size 432x288 with 2 Axes>"
            ]
          },
          "metadata": {},
          "output_type": "display_data"
        }
      ],
      "source": [
        "from sklearn.metrics import confusion_matrix\n",
        "print(\"Train confusion matrix\")\n",
        "print(confusion_matrix(y_train, model.predict(X_train_tfidf)))\n",
        "print(\"Test confusion matrix\")\n",
        "print(confusion_matrix(y_test, model.predict(X_test_tfidf)))\n",
        "cm_test=confusion_matrix(y_test, model.predict(X_test_tfidf))\n",
        "import seaborn as sns\n",
        "class_label = [\"negative\", \"positive\"]\n",
        "df_cm = pd.DataFrame(cm_test, index = class_label, columns = class_label)\n",
        "sns.heatmap(df_cm, annot = True, fmt = \"d\")\n",
        "plt.title(\"Confusiion Matrix\")\n",
        "plt.xlabel(\"Predicted Label\")\n",
        "plt.ylabel(\"True Label\")\n",
        "plt.show()"
      ],
      "id": "75b13aa3"
    },
    {
      "cell_type": "code",
      "execution_count": null,
      "metadata": {
        "id": "4adda532",
        "outputId": "c1ea5894-5612-45e8-dd0f-ab48f747f6ea"
      },
      "outputs": [
        {
          "data": {
            "text/plain": [
              "<4950x2 sparse matrix of type '<class 'numpy.float64'>'\n",
              "\twith 2 stored elements in Compressed Sparse Row format>"
            ]
          },
          "execution_count": 131,
          "metadata": {},
          "output_type": "execute_result"
        }
      ],
      "source": [
        "sample=vect.fit_transform(li)\n",
        "test=StandardScaler(with_mean=False).fit_transform(sample)\n",
        "test"
      ],
      "id": "4adda532"
    },
    {
      "cell_type": "code",
      "execution_count": null,
      "metadata": {
        "id": "ac5f706c"
      },
      "outputs": [],
      "source": [
        "res=model.predict(test)"
      ],
      "id": "ac5f706c"
    },
    {
      "cell_type": "code",
      "execution_count": null,
      "metadata": {
        "id": "327be1f5",
        "scrolled": false
      },
      "outputs": [],
      "source": [
        "#X_test.tolist()"
      ],
      "id": "327be1f5"
    },
    {
      "cell_type": "markdown",
      "metadata": {
        "id": "2bd57e0c"
      },
      "source": [
        "<h3>2.2 SA using pretrained models</h3>"
      ],
      "id": "2bd57e0c"
    },
    {
      "cell_type": "markdown",
      "metadata": {
        "id": "da592074"
      },
      "source": [
        "<h4>2.2.1 import data azure database</h4>"
      ],
      "id": "da592074"
    },
    {
      "cell_type": "code",
      "execution_count": null,
      "metadata": {
        "id": "9650e406"
      },
      "outputs": [],
      "source": [],
      "id": "9650e406"
    },
    {
      "cell_type": "code",
      "execution_count": null,
      "metadata": {
        "id": "2f320550"
      },
      "outputs": [],
      "source": [
        "import pandas as pd\n",
        "import numpy as np\n",
        "import re\n",
        "\n",
        "from pprint import pprint\n",
        "import time\n",
        "\n",
        "# ignore warnings\n",
        "import warnings\n",
        "warnings.filterwarnings('ignore')"
      ],
      "id": "2f320550"
    },
    {
      "cell_type": "code",
      "execution_count": null,
      "metadata": {
        "id": "bb0d22e1"
      },
      "outputs": [],
      "source": [
        "import mysql.connector\n",
        "\n",
        "\n",
        "cnx = mysql.connector.connect(\n",
        "        user=\"lachmed@projet2scrapping\",\n",
        "        password=\"Projet@Scrapping\",\n",
        "        host=\"projet2scrapping.mysql.database.azure.com\",\n",
        "        port=3306,\n",
        "        database=\"Movies\")\n",
        "        #ssl_ca={ca-cert filename},\n",
        "        #ssl_verify_cert=true)\n",
        "\n",
        "print(cnx)\n",
        "\n",
        "cursor = cnx.cursor()\n",
        "cursor.execute(\"show databases\")\n",
        "cursor.fetchall()\n",
        "cursor.execute(\"use movies\")\n",
        "cursor.execute(\"show tables\")\n",
        "cursor.fetchall()"
      ],
      "id": "bb0d22e1"
    },
    {
      "cell_type": "code",
      "execution_count": null,
      "metadata": {
        "id": "4e05392a"
      },
      "outputs": [],
      "source": [
        "cursor.execute(\"SELECT * FROM movieslinks\")\n",
        "pd.DataFrame(cursor.fetchall(),columns=[\"MovieName\",\"Url\"])"
      ],
      "id": "4e05392a"
    },
    {
      "cell_type": "code",
      "execution_count": null,
      "metadata": {
        "id": "00eb7a68"
      },
      "outputs": [],
      "source": [],
      "id": "00eb7a68"
    },
    {
      "cell_type": "code",
      "execution_count": null,
      "metadata": {
        "id": "b1166eb9"
      },
      "outputs": [],
      "source": [
        "cursor.execute(\"SELECT * FROM reviews\")\n",
        "dataset=pd.DataFrame(cursor.fetchall(),columns=[\"id\",\"MovieName\",\"user\",\"review\",\"note\"])"
      ],
      "id": "b1166eb9"
    },
    {
      "cell_type": "code",
      "execution_count": null,
      "metadata": {
        "id": "81e675b8",
        "outputId": "119d8d83-3d9f-4943-eddd-b4e9831de3af"
      },
      "outputs": [
        {
          "data": {
            "text/html": [
              "<div>\n",
              "<style scoped>\n",
              "    .dataframe tbody tr th:only-of-type {\n",
              "        vertical-align: middle;\n",
              "    }\n",
              "\n",
              "    .dataframe tbody tr th {\n",
              "        vertical-align: top;\n",
              "    }\n",
              "\n",
              "    .dataframe thead th {\n",
              "        text-align: right;\n",
              "    }\n",
              "</style>\n",
              "<table border=\"1\" class=\"dataframe\">\n",
              "  <thead>\n",
              "    <tr style=\"text-align: right;\">\n",
              "      <th></th>\n",
              "      <th>id</th>\n",
              "      <th>MovieName</th>\n",
              "      <th>user</th>\n",
              "      <th>review</th>\n",
              "      <th>note</th>\n",
              "    </tr>\n",
              "  </thead>\n",
              "  <tbody>\n",
              "    <tr>\n",
              "      <th>0</th>\n",
              "      <td>1</td>\n",
              "      <td>Forrest Gump</td>\n",
              "      <td>Un visiteur</td>\n",
              "      <td>Forrest Gump de Robert Zemeckis (réalisateur d...</td>\n",
              "      <td>5.0</td>\n",
              "    </tr>\n",
              "    <tr>\n",
              "      <th>1</th>\n",
              "      <td>2</td>\n",
              "      <td>Forrest Gump</td>\n",
              "      <td>chrischambers86</td>\n",
              "      <td>Une immense rèussite du cinèma hollywoodien! R...</td>\n",
              "      <td>4.0</td>\n",
              "    </tr>\n",
              "    <tr>\n",
              "      <th>2</th>\n",
              "      <td>3</td>\n",
              "      <td>Forrest Gump</td>\n",
              "      <td>Loskof</td>\n",
              "      <td>Un film immense, rempli de poésie et de bons s...</td>\n",
              "      <td>5.0</td>\n",
              "    </tr>\n",
              "    <tr>\n",
              "      <th>3</th>\n",
              "      <td>4</td>\n",
              "      <td>Forrest Gump</td>\n",
              "      <td>Chris46</td>\n",
              "      <td>Un très grand film . Ce film suit la vie sur p...</td>\n",
              "      <td>5.0</td>\n",
              "    </tr>\n",
              "    <tr>\n",
              "      <th>4</th>\n",
              "      <td>5</td>\n",
              "      <td>Forrest Gump</td>\n",
              "      <td>MaCultureGeek</td>\n",
              "      <td>Le matin, quand il fait bon et beau, normal qu...</td>\n",
              "      <td>5.0</td>\n",
              "    </tr>\n",
              "  </tbody>\n",
              "</table>\n",
              "</div>"
            ],
            "text/plain": [
              "   id     MovieName             user  \\\n",
              "0   1  Forrest Gump      Un visiteur   \n",
              "1   2  Forrest Gump  chrischambers86   \n",
              "2   3  Forrest Gump           Loskof   \n",
              "3   4  Forrest Gump          Chris46   \n",
              "4   5  Forrest Gump    MaCultureGeek   \n",
              "\n",
              "                                              review  note  \n",
              "0  Forrest Gump de Robert Zemeckis (réalisateur d...   5.0  \n",
              "1  Une immense rèussite du cinèma hollywoodien! R...   4.0  \n",
              "2  Un film immense, rempli de poésie et de bons s...   5.0  \n",
              "3  Un très grand film . Ce film suit la vie sur p...   5.0  \n",
              "4  Le matin, quand il fait bon et beau, normal qu...   5.0  "
            ]
          },
          "execution_count": 20,
          "metadata": {},
          "output_type": "execute_result"
        }
      ],
      "source": [
        "dataset.head()"
      ],
      "id": "81e675b8"
    },
    {
      "cell_type": "markdown",
      "metadata": {
        "id": "4270c793"
      },
      "source": [
        "<h4>2.2.2 data preprocessing</h4>"
      ],
      "id": "4270c793"
    },
    {
      "cell_type": "code",
      "execution_count": null,
      "metadata": {
        "id": "9cd99dc4"
      },
      "outputs": [],
      "source": [],
      "id": "9cd99dc4"
    },
    {
      "cell_type": "code",
      "execution_count": null,
      "metadata": {
        "id": "4e7f7165"
      },
      "outputs": [],
      "source": [],
      "id": "4e7f7165"
    },
    {
      "cell_type": "code",
      "execution_count": null,
      "metadata": {
        "colab": {
          "base_uri": "https://localhost:8080/"
        },
        "id": "WIr9HCjwnpYk",
        "outputId": "39429aa3-bb96-4be4-d792-1988fa26a60a"
      },
      "outputs": [
        {
          "name": "stdout",
          "output_type": "stream",
          "text": [
            "Installing collected packages: sacremoses\n",
            "Successfully installed sacremoses-0.0.53\n"
          ]
        }
      ],
      "source": [
        "!pip install emoji\n",
        "!pip install transformers\n",
        "!pip install sacremoses"
      ],
      "id": "WIr9HCjwnpYk"
    },
    {
      "cell_type": "code",
      "execution_count": null,
      "metadata": {
        "id": "65800bbc"
      },
      "outputs": [],
      "source": [],
      "id": "65800bbc"
    },
    {
      "cell_type": "markdown",
      "metadata": {
        "id": "ebe39654"
      },
      "source": [
        "check review language before doing sentiment analysis on it"
      ],
      "id": "ebe39654"
    },
    {
      "cell_type": "code",
      "execution_count": null,
      "metadata": {
        "id": "dc680372"
      },
      "outputs": [],
      "source": [],
      "id": "dc680372"
    },
    {
      "cell_type": "markdown",
      "metadata": {
        "id": "5f82c6e0"
      },
      "source": [
        "<b>french model</b>"
      ],
      "id": "5f82c6e0"
    },
    {
      "cell_type": "code",
      "execution_count": null,
      "metadata": {
        "id": "gyOwbZiOvvmV"
      },
      "outputs": [],
      "source": [
        "!pip install transformers[sentencepiece]"
      ],
      "id": "gyOwbZiOvvmV"
    },
    {
      "cell_type": "code",
      "execution_count": null,
      "metadata": {
        "id": "I46PYX6bslZt"
      },
      "outputs": [],
      "source": [
        "from transformers import pipeline\n",
        "from transformers import AutoTokenizer, AutoModelForSequenceClassification\n",
        "loaded_tokenizer = AutoTokenizer.from_pretrained(\"nlptown/bert-base-multilingual-uncased-sentiment\")\n",
        "\n",
        "multilang_classifier = pipeline(\"sentiment-analysis\",model=\"nlptown/bert-base-multilingual-uncased-sentiment\",tokenizer=loaded_tokenizer)\n"
      ],
      "id": "I46PYX6bslZt"
    },
    {
      "cell_type": "code",
      "execution_count": null,
      "metadata": {
        "colab": {
          "base_uri": "https://localhost:8080/"
        },
        "id": "SSUlVeMjs49T",
        "outputId": "34559fc8-0148-4f35-a0a7-5c76254e3a31"
      },
      "outputs": [
        {
          "data": {
            "text/plain": [
              "[{'label': '5 stars', 'score': 0.8747344613075256}]"
            ]
          },
          "execution_count": 77,
          "metadata": {},
          "output_type": "execute_result"
        }
      ],
      "source": [
        "\n",
        "multilang_classifier(\"Ton tuto est vraiment magnifique\")"
      ],
      "id": "SSUlVeMjs49T"
    },
    {
      "cell_type": "code",
      "execution_count": null,
      "metadata": {
        "id": "3dbb66a3"
      },
      "outputs": [],
      "source": [
        "def frenshModel(txt):\n",
        "  res=multilang_classifier(txt)[0]\n",
        "  return res['score']"
      ],
      "id": "3dbb66a3"
    },
    {
      "cell_type": "code",
      "execution_count": null,
      "metadata": {
        "colab": {
          "base_uri": "https://localhost:8080/"
        },
        "id": "Wr4rPVheqquJ",
        "outputId": "d4f208b5-5c6e-4dc2-acc0-61bc2215a206"
      },
      "outputs": [
        {
          "data": {
            "text/plain": [
              "0.9113034009933472"
            ]
          },
          "execution_count": 20,
          "metadata": {},
          "output_type": "execute_result"
        }
      ],
      "source": [
        "frenshModel('magnifique')"
      ],
      "id": "Wr4rPVheqquJ"
    },
    {
      "cell_type": "markdown",
      "metadata": {
        "id": "22c92c99"
      },
      "source": [
        "<b>english model</b>"
      ],
      "id": "22c92c99"
    },
    {
      "cell_type": "code",
      "execution_count": null,
      "metadata": {
        "id": "QMZlgF-crn_D"
      },
      "outputs": [],
      "source": [
        "from transformers import AutoTokenizer\n",
        "from transformers import AutoModelForSequenceClassification\n",
        "from scipy.special import softmax\n",
        "import nltk\n",
        "nltk.download('vader_lexicon')\n",
        "\n",
        "from nltk.sentiment import SentimentIntensityAnalyzer\n",
        "from tqdm.notebook import tqdm\n",
        "\n",
        "sia = SentimentIntensityAnalyzer()\n",
        "MODEL = f\"cardiffnlp/twitter-roberta-base-sentiment\"\n",
        "tokenizer=AutoTokenizer.from_pretrained(MODEL)\n",
        "englishmodel = AutoModelForSequenceClassification.from_pretrained(MODEL)"
      ],
      "id": "QMZlgF-crn_D"
    },
    {
      "cell_type": "code",
      "execution_count": null,
      "metadata": {
        "id": "yJJUh9Qkr_yk"
      },
      "outputs": [],
      "source": [],
      "id": "yJJUh9Qkr_yk"
    },
    {
      "cell_type": "code",
      "execution_count": null,
      "metadata": {
        "id": "e426cddf"
      },
      "outputs": [],
      "source": [
        "\n",
        "def englishModel(txt):\n",
        "    res=sia.polarity_scores(txt)\n",
        "    neu=res['neu']\n",
        "    pos=res['pos']\n",
        "    neg=res['neg']\n",
        "    if (neu >= pos) and (neu >= neg):\n",
        "        largest = neu\n",
        "\n",
        "    elif (pos >= neu) and (pos >= neg):\n",
        "        largest = pos\n",
        "    else:\n",
        "        largest = neg\n",
        "\n",
        "    return largest"
      ],
      "id": "e426cddf"
    },
    {
      "cell_type": "code",
      "execution_count": null,
      "metadata": {
        "colab": {
          "base_uri": "https://localhost:8080/"
        },
        "id": "2908c380",
        "outputId": "12e97376-838f-48e9-99c7-fa1da8da2c70"
      },
      "outputs": [
        {
          "data": {
            "text/plain": [
              "0.787"
            ]
          },
          "execution_count": 23,
          "metadata": {},
          "output_type": "execute_result"
        }
      ],
      "source": [
        "example=\"I am happy\"\n",
        "eng=englishModel(example)\n",
        "eng"
      ],
      "id": "2908c380"
    },
    {
      "cell_type": "markdown",
      "metadata": {
        "id": "tAOq8G6XzhWQ"
      },
      "source": [
        "**Arabic model**"
      ],
      "id": "tAOq8G6XzhWQ"
    },
    {
      "cell_type": "code",
      "execution_count": null,
      "metadata": {
        "colab": {
          "base_uri": "https://localhost:8080/"
        },
        "id": "qx8lEGTh0XbX",
        "outputId": "cb38b1e3-13d9-4586-c855-47988fef4bd6"
      },
      "outputs": [
        {
          "name": "stderr",
          "output_type": "stream",
          "text": [
            "[nltk_data] Downloading package stopwords to /root/nltk_data...\n",
            "[nltk_data]   Package stopwords is already up-to-date!\n"
          ]
        }
      ],
      "source": [
        "import nltk\n",
        "nltk.download('stopwords')\n",
        "import pandas as pd\n",
        "import numpy as np\n",
        "import matplotlib.pyplot as plt\n",
        "import string\n",
        "import re\n",
        "from nltk.corpus import stopwords\n",
        "from sklearn.model_selection import train_test_split, GridSearchCV\n",
        "from sklearn.feature_extraction.text import TfidfVectorizer\n",
        "from sklearn.pipeline import make_pipeline\n",
        "from sklearn.linear_model import LogisticRegression\n",
        "from sklearn.ensemble import RandomForestClassifier\n",
        "from sklearn.naive_bayes import MultinomialNB\n",
        "from sklearn.svm import SVC\n",
        "from sklearn.metrics import confusion_matrix,accuracy_score, classification_report\n",
        "\n",
        "arabicdata = pd.read_excel(r\"AJGT.xlsx\")\n",
        "\n"
      ],
      "id": "qx8lEGTh0XbX"
    },
    {
      "cell_type": "code",
      "execution_count": null,
      "metadata": {
        "colab": {
          "base_uri": "https://localhost:8080/",
          "height": 206
        },
        "id": "wnpV5yDH3rH0",
        "outputId": "323ec102-a19f-4136-cd78-5956d75a0e00"
      },
      "outputs": [
        {
          "data": {
            "text/html": [
              "\n",
              "  <div id=\"df-acbf4304-bcf0-449a-b6c1-6919e6d2e3b9\">\n",
              "    <div class=\"colab-df-container\">\n",
              "      <div>\n",
              "<style scoped>\n",
              "    .dataframe tbody tr th:only-of-type {\n",
              "        vertical-align: middle;\n",
              "    }\n",
              "\n",
              "    .dataframe tbody tr th {\n",
              "        vertical-align: top;\n",
              "    }\n",
              "\n",
              "    .dataframe thead th {\n",
              "        text-align: right;\n",
              "    }\n",
              "</style>\n",
              "<table border=\"1\" class=\"dataframe\">\n",
              "  <thead>\n",
              "    <tr style=\"text-align: right;\">\n",
              "      <th></th>\n",
              "      <th>ID</th>\n",
              "      <th>Feed</th>\n",
              "      <th>Sentiment</th>\n",
              "    </tr>\n",
              "  </thead>\n",
              "  <tbody>\n",
              "    <tr>\n",
              "      <th>0</th>\n",
              "      <td>1</td>\n",
              "      <td>اربد فيها جامعات اكثر من عمان ... وفيها قد عم...</td>\n",
              "      <td>Positive</td>\n",
              "    </tr>\n",
              "    <tr>\n",
              "      <th>1</th>\n",
              "      <td>2</td>\n",
              "      <td>الحلو انكم بتحكوا على اساس انو الاردن ما فيه ...</td>\n",
              "      <td>Negative</td>\n",
              "    </tr>\n",
              "    <tr>\n",
              "      <th>2</th>\n",
              "      <td>3</td>\n",
              "      <td>كله رائع بجد ربنا يكرمك</td>\n",
              "      <td>Positive</td>\n",
              "    </tr>\n",
              "    <tr>\n",
              "      <th>3</th>\n",
              "      <td>4</td>\n",
              "      <td>لسانك قذر يا قمامه</td>\n",
              "      <td>Negative</td>\n",
              "    </tr>\n",
              "    <tr>\n",
              "      <th>4</th>\n",
              "      <td>5</td>\n",
              "      <td>​انا داشره وغير متزوجه ولدي علاقات مشبوه واحشش...</td>\n",
              "      <td>Negative</td>\n",
              "    </tr>\n",
              "  </tbody>\n",
              "</table>\n",
              "</div>\n",
              "      <button class=\"colab-df-convert\" onclick=\"convertToInteractive('df-acbf4304-bcf0-449a-b6c1-6919e6d2e3b9')\"\n",
              "              title=\"Convert this dataframe to an interactive table.\"\n",
              "              style=\"display:none;\">\n",
              "        \n",
              "  <svg xmlns=\"http://www.w3.org/2000/svg\" height=\"24px\"viewBox=\"0 0 24 24\"\n",
              "       width=\"24px\">\n",
              "    <path d=\"M0 0h24v24H0V0z\" fill=\"none\"/>\n",
              "    <path d=\"M18.56 5.44l.94 2.06.94-2.06 2.06-.94-2.06-.94-.94-2.06-.94 2.06-2.06.94zm-11 1L8.5 8.5l.94-2.06 2.06-.94-2.06-.94L8.5 2.5l-.94 2.06-2.06.94zm10 10l.94 2.06.94-2.06 2.06-.94-2.06-.94-.94-2.06-.94 2.06-2.06.94z\"/><path d=\"M17.41 7.96l-1.37-1.37c-.4-.4-.92-.59-1.43-.59-.52 0-1.04.2-1.43.59L10.3 9.45l-7.72 7.72c-.78.78-.78 2.05 0 2.83L4 21.41c.39.39.9.59 1.41.59.51 0 1.02-.2 1.41-.59l7.78-7.78 2.81-2.81c.8-.78.8-2.07 0-2.86zM5.41 20L4 18.59l7.72-7.72 1.47 1.35L5.41 20z\"/>\n",
              "  </svg>\n",
              "      </button>\n",
              "      \n",
              "  <style>\n",
              "    .colab-df-container {\n",
              "      display:flex;\n",
              "      flex-wrap:wrap;\n",
              "      gap: 12px;\n",
              "    }\n",
              "\n",
              "    .colab-df-convert {\n",
              "      background-color: #E8F0FE;\n",
              "      border: none;\n",
              "      border-radius: 50%;\n",
              "      cursor: pointer;\n",
              "      display: none;\n",
              "      fill: #1967D2;\n",
              "      height: 32px;\n",
              "      padding: 0 0 0 0;\n",
              "      width: 32px;\n",
              "    }\n",
              "\n",
              "    .colab-df-convert:hover {\n",
              "      background-color: #E2EBFA;\n",
              "      box-shadow: 0px 1px 2px rgba(60, 64, 67, 0.3), 0px 1px 3px 1px rgba(60, 64, 67, 0.15);\n",
              "      fill: #174EA6;\n",
              "    }\n",
              "\n",
              "    [theme=dark] .colab-df-convert {\n",
              "      background-color: #3B4455;\n",
              "      fill: #D2E3FC;\n",
              "    }\n",
              "\n",
              "    [theme=dark] .colab-df-convert:hover {\n",
              "      background-color: #434B5C;\n",
              "      box-shadow: 0px 1px 3px 1px rgba(0, 0, 0, 0.15);\n",
              "      filter: drop-shadow(0px 1px 2px rgba(0, 0, 0, 0.3));\n",
              "      fill: #FFFFFF;\n",
              "    }\n",
              "  </style>\n",
              "\n",
              "      <script>\n",
              "        const buttonEl =\n",
              "          document.querySelector('#df-acbf4304-bcf0-449a-b6c1-6919e6d2e3b9 button.colab-df-convert');\n",
              "        buttonEl.style.display =\n",
              "          google.colab.kernel.accessAllowed ? 'block' : 'none';\n",
              "\n",
              "        async function convertToInteractive(key) {\n",
              "          const element = document.querySelector('#df-acbf4304-bcf0-449a-b6c1-6919e6d2e3b9');\n",
              "          const dataTable =\n",
              "            await google.colab.kernel.invokeFunction('convertToInteractive',\n",
              "                                                     [key], {});\n",
              "          if (!dataTable) return;\n",
              "\n",
              "          const docLinkHtml = 'Like what you see? Visit the ' +\n",
              "            '<a target=\"_blank\" href=https://colab.research.google.com/notebooks/data_table.ipynb>data table notebook</a>'\n",
              "            + ' to learn more about interactive tables.';\n",
              "          element.innerHTML = '';\n",
              "          dataTable['output_type'] = 'display_data';\n",
              "          await google.colab.output.renderOutput(dataTable, element);\n",
              "          const docLink = document.createElement('div');\n",
              "          docLink.innerHTML = docLinkHtml;\n",
              "          element.appendChild(docLink);\n",
              "        }\n",
              "      </script>\n",
              "    </div>\n",
              "  </div>\n",
              "  "
            ],
            "text/plain": [
              "   ID                                               Feed Sentiment\n",
              "0   1   اربد فيها جامعات اكثر من عمان ... وفيها قد عم...  Positive\n",
              "1   2   الحلو انكم بتحكوا على اساس انو الاردن ما فيه ...  Negative\n",
              "2   3                            كله رائع بجد ربنا يكرمك  Positive\n",
              "3   4                                 لسانك قذر يا قمامه  Negative\n",
              "4   5  ​انا داشره وغير متزوجه ولدي علاقات مشبوه واحشش...  Negative"
            ]
          },
          "execution_count": 169,
          "metadata": {},
          "output_type": "execute_result"
        }
      ],
      "source": [
        "arabicdata.head()"
      ],
      "id": "wnpV5yDH3rH0"
    },
    {
      "cell_type": "code",
      "execution_count": null,
      "metadata": {
        "id": "098a32b2"
      },
      "outputs": [],
      "source": [
        "'''\n",
        "The first step is to subject the data to preprocessing.\n",
        "This involves removing both arabic and english punctuation\n",
        "Normalizing different letter variants with one common letter\n",
        "'''\n",
        "# first we define a list of arabic and english punctiations that we want to get rid of in our text\n",
        "\n",
        "punctuations = '''`÷×؛<>_()*&^%][ـ،/:\"؟.,'{}~¦+|!”…“–ـ''' + string.punctuation\n",
        "\n",
        "# Arabic stop words with nltk\n",
        "stop_words = stopwords.words()\n",
        "\n",
        "arabic_diacritics = re.compile(\"\"\"\n",
        "                             ّ    | # Shadda\n",
        "                             َ    | # Fatha\n",
        "                             ً    | # Tanwin Fath\n",
        "                             ُ    | # Damma\n",
        "                             ٌ    | # Tanwin Damm\n",
        "                             ِ    | # Kasra\n",
        "                             ٍ    | # Tanwin Kasr\n",
        "                             ْ    | # Sukun\n",
        "                             ـ     # Tatwil/Kashida\n",
        "                         \"\"\", re.VERBOSE)\n",
        "\n",
        "def preprocess(text):\n",
        "\n",
        "    '''\n",
        "    text is an arabic string input\n",
        "\n",
        "    the preprocessed text is returned\n",
        "    '''\n",
        "\n",
        "    #remove punctuations\n",
        "    translator = str.maketrans('', '', punctuations)\n",
        "    text = text.translate(translator)\n",
        "\n",
        "    # remove Tashkeel\n",
        "    text = re.sub(arabic_diacritics, '', text)\n",
        "\n",
        "    #remove longation\n",
        "    text = re.sub(\"[إأآا]\", \"ا\", text)\n",
        "    text = re.sub(\"ى\", \"ي\", text)\n",
        "    text = re.sub(\"ؤ\", \"ء\", text)\n",
        "    text = re.sub(\"ئ\", \"ء\", text)\n",
        "    text = re.sub(\"ة\", \"ه\", text)\n",
        "    text = re.sub(\"گ\", \"ك\", text)\n",
        "\n",
        "    text = ' '.join(word for word in text.split() if word not in stop_words)\n",
        "\n",
        "    return text\n",
        "\n",
        "arabicdata['Feed'] = arabicdata['Feed'].apply(preprocess)\n",
        "\n",
        "\n",
        "#-======================================================\n",
        "# splitting the data into target and feature\n",
        "feature = arabicdata.Feed\n",
        "target = arabicdata.Sentiment\n",
        "# splitting into train and tests\n",
        "X_train, X_test, Y_train, Y_test = train_test_split(feature, target, test_size =.2, random_state=100)\n",
        "\n",
        "# make pipeline\n",
        "pipe = make_pipeline(TfidfVectorizer(),\n",
        "                    LogisticRegression())\n",
        "# make param grid\n",
        "param_grid = {'logisticregression__C': [0.01, 0.1, 1, 10, 100]}\n",
        "\n",
        "# create and fit the model\n",
        "arabicmodel = GridSearchCV(pipe, param_grid, cv=5)\n",
        "arabicmodel.fit(X_train,Y_train)\n",
        "\n",
        "# make prediction and print accuracy\n",
        "arabicprediction = arabicmodel.predict(X_test)\n"
      ],
      "id": "098a32b2"
    },
    {
      "cell_type": "code",
      "execution_count": null,
      "metadata": {
        "id": "dtfNtR2d0j86"
      },
      "outputs": [],
      "source": [
        "def arabicModel(txt):\n",
        "    pred = arabicmodel.predict_proba([txt])\n",
        "    return pred[0].max()"
      ],
      "id": "dtfNtR2d0j86"
    },
    {
      "cell_type": "code",
      "execution_count": null,
      "metadata": {
        "colab": {
          "base_uri": "https://localhost:8080/"
        },
        "id": "I15S18R70j5v",
        "outputId": "060cf7e9-b6ec-4862-c839-bb067743b4c4"
      },
      "outputs": [
        {
          "data": {
            "text/plain": [
              "0.8916100009309676"
            ]
          },
          "execution_count": 27,
          "metadata": {},
          "output_type": "execute_result"
        }
      ],
      "source": [
        "c=arabicModel('وجه صاحب الجلالة الملك محمد السادس، نصره الله، يومه الثلاثاء 27 ربيع الآخر 1444هـ الموافق لـ 22 نوفمبر 2022')\n",
        "c"
      ],
      "id": "I15S18R70j5v"
    },
    {
      "cell_type": "markdown",
      "metadata": {
        "id": "ENQG8kwa3b3B"
      },
      "source": [
        "**spanish model**"
      ],
      "id": "ENQG8kwa3b3B"
    },
    {
      "cell_type": "code",
      "execution_count": null,
      "metadata": {
        "id": "pi785ier3YkM"
      },
      "outputs": [],
      "source": [
        "!pip install pysentimiento"
      ],
      "id": "pi785ier3YkM"
    },
    {
      "cell_type": "code",
      "execution_count": null,
      "metadata": {
        "id": "E8af8eB00jyI"
      },
      "outputs": [],
      "source": [
        "from transformers import AutoTokenizer, AutoModelForSequenceClassification\n",
        "\n",
        "tokenizer = AutoTokenizer.from_pretrained(\"pysentimiento/robertuito-sentiment-analysis\")\n",
        "\n",
        "model = AutoModelForSequenceClassification.from_pretrained(\"pysentimiento/robertuito-sentiment-analysis\")"
      ],
      "id": "E8af8eB00jyI"
    },
    {
      "cell_type": "code",
      "execution_count": null,
      "metadata": {
        "id": "e5Y651T83x9A"
      },
      "outputs": [],
      "source": [
        "from pysentimiento.preprocessing import preprocess_tweet\n",
        "\n",
        "# Replaces user handles and URLs by special tokens\n",
        "tweet=preprocess_tweet(\"jajajajaajjajaajajaja no lo puedo creer ajajaj\")"
      ],
      "id": "e5Y651T83x9A"
    },
    {
      "cell_type": "code",
      "execution_count": null,
      "metadata": {
        "id": "nhfhwqP14nsV"
      },
      "outputs": [],
      "source": [
        "from pysentimiento import create_analyzer\n",
        "analyzer = create_analyzer(task=\"sentiment\", lang=\"es\")\n",
        "\n"
      ],
      "id": "nhfhwqP14nsV"
    },
    {
      "cell_type": "code",
      "execution_count": null,
      "metadata": {
        "id": "Z8IbkS9f4xIU"
      },
      "outputs": [],
      "source": [
        "def spanishModel(txt):\n",
        "    tweet=preprocess_tweet(txt)\n",
        "    v=analyzer.predict(tweet)\n",
        "\n",
        "    neu=v.probas['NEU']\n",
        "    pos=v.probas['POS']\n",
        "    neg=v.probas['NEG']\n",
        "    if (neu >= pos) and (neu >= neg):\n",
        "        largest = neu\n",
        "\n",
        "    elif (pos >= neu) and (pos >= neg):\n",
        "        largest = pos\n",
        "    else:\n",
        "        largest = neg\n",
        "    return largest"
      ],
      "id": "Z8IbkS9f4xIU"
    },
    {
      "cell_type": "code",
      "execution_count": null,
      "metadata": {
        "colab": {
          "base_uri": "https://localhost:8080/"
        },
        "id": "PGkhKBzy7ndL",
        "outputId": "747f1f18-b728-42b7-abc4-0e87643bb389"
      },
      "outputs": [
        {
          "data": {
            "text/plain": [
              "0.9942883253097534"
            ]
          },
          "execution_count": 90,
          "metadata": {},
          "output_type": "execute_result"
        }
      ],
      "source": [
        "m=spanishModel(\"Qué gran jugador es Messi\")\n",
        "m"
      ],
      "id": "PGkhKBzy7ndL"
    },
    {
      "cell_type": "markdown",
      "metadata": {
        "id": "oc3HNo1m8__D"
      },
      "source": [
        "**Portugeese model**"
      ],
      "id": "oc3HNo1m8__D"
    },
    {
      "cell_type": "code",
      "execution_count": null,
      "metadata": {
        "colab": {
          "base_uri": "https://localhost:8080/"
        },
        "id": "jTv80o3RA2Nk",
        "outputId": "88f46a3d-fee3-4363-c154-bf9a87608a13"
      },
      "outputs": [
        {
          "name": "stderr",
          "output_type": "stream",
          "text": [
            "[nltk_data] Downloading package rslp to /root/nltk_data...\n",
            "[nltk_data]   Unzipping stemmers/rslp.zip.\n"
          ]
        },
        {
          "data": {
            "text/plain": [
              "True"
            ]
          },
          "execution_count": 91,
          "metadata": {},
          "output_type": "execute_result"
        }
      ],
      "source": [
        "import os\n",
        "import pandas as pd\n",
        "import numpy as np\n",
        "import random\n",
        "import re\n",
        "import nltk\n",
        "from nltk.tokenize import word_tokenize\n",
        "from nltk.tokenize import wordpunct_tokenize\n",
        "# from nltk.tokenize import sent_tokenize (Tokenization)\n",
        "from nltk.probability import FreqDist\n",
        "from nltk.metrics import ConfusionMatrix\n",
        "from wordcloud import WordCloud\n",
        "import matplotlib.pyplot as plt\n",
        "from sklearn.feature_extraction.text import CountVectorizer\n",
        "from sklearn.feature_extraction.text import TfidfTransformer\n",
        "from sklearn.naive_bayes import MultinomialNB\n",
        "from sklearn.linear_model import SGDClassifier\n",
        "from sklearn.linear_model import LogisticRegression\n",
        "from sklearn.svm import SVC\n",
        "from sklearn.ensemble import RandomForestClassifier\n",
        "from sklearn.pipeline import Pipeline\n",
        "from sklearn import metrics\n",
        "from sklearn.model_selection import GridSearchCV\n",
        "import nltk\n",
        "nltk.download('rslp')"
      ],
      "id": "jTv80o3RA2Nk"
    },
    {
      "cell_type": "code",
      "execution_count": null,
      "metadata": {
        "colab": {
          "base_uri": "https://localhost:8080/"
        },
        "id": "rhDup36KBH91",
        "outputId": "abca064d-0b7b-48fe-c242-c24d9ca81c30"
      },
      "outputs": [
        {
          "name": "stdout",
          "output_type": "stream",
          "text": [
            "Mounted at /content/drive\n"
          ]
        }
      ],
      "source": [
        "from google.colab import drive\n",
        "drive.mount('/content/drive')"
      ],
      "id": "rhDup36KBH91"
    },
    {
      "cell_type": "code",
      "execution_count": null,
      "metadata": {
        "colab": {
          "base_uri": "https://localhost:8080/"
        },
        "id": "vW8TLJEpcA_n",
        "outputId": "8bfd4f76-dbef-46de-cf92-fbe8cccdb84b"
      },
      "outputs": [
        {
          "name": "stdout",
          "output_type": "stream",
          "text": [
            "\n",
            "  inflating: olist.csv               \n",
            "  inflating: utlc_apps.csv           \n",
            "  inflating: utlc_movies.csv         \n"
          ]
        }
      ],
      "source": [
        "!unzip /content/drive/MyDrive/datamining/archive.zip"
      ],
      "id": "vW8TLJEpcA_n"
    },
    {
      "cell_type": "code",
      "execution_count": null,
      "metadata": {
        "id": "6pFOt40CA2Gy"
      },
      "outputs": [],
      "source": [
        "pordata=pd.read_csv(\"/content/b2w.csv\")"
      ],
      "id": "6pFOt40CA2Gy"
    },
    {
      "cell_type": "code",
      "execution_count": null,
      "metadata": {
        "id": "g5uiALgFcPq4"
      },
      "outputs": [],
      "source": [],
      "id": "g5uiALgFcPq4"
    },
    {
      "cell_type": "code",
      "execution_count": null,
      "metadata": {
        "id": "8wzw2JmzA2C8"
      },
      "outputs": [],
      "source": [
        "#drop rows with nan in comment text\n",
        "pordata=pordata.dropna()\n",
        "\n",
        "\n",
        "#split data\n",
        "from sklearn.model_selection import train_test_split\n",
        "\n",
        "X_train, X_test, y_train, y_test = train_test_split(pordata['review_text'],\n",
        "                               pordata['polarity'],stratify=pordata['polarity'], random_state=0\n",
        ")\n",
        "\n",
        "#============================================================\n",
        "#remove url\n",
        "def _remove_url(data):\n",
        "    ls = []\n",
        "    words = ''\n",
        "    regexp1 = re.compile('http[s]?://(?:[a-zA-Z]|[0-9]|[$-_@.&+]|[!*\\(\\),]|(?:%[0-9a-fA-F][0-9a-fA-F]))+')\n",
        "    regexp2 = re.compile('www?.(?:[a-zA-Z]|[0-9]|[$-_@.&+]|[!*\\(\\),]|(?:%[0-9a-fA-F][0-9a-fA-F]))+')\n",
        "\n",
        "    for line in data:\n",
        "        urls = regexp1.findall(line)\n",
        "\n",
        "        for u in urls:\n",
        "            line = line.replace(u, ' ')\n",
        "\n",
        "        urls = regexp2.findall(line)\n",
        "\n",
        "        for u in urls:\n",
        "            line = line.replace(u, ' ')\n",
        "\n",
        "        ls.append(line)\n",
        "    return ls\n",
        "\n",
        "X_train = _remove_url(X_train)\n",
        "X_test = _remove_url(X_test)\n",
        "\n",
        "\n",
        "#Remove a regex pattern (hashtags, notations)\n",
        "def _remove_regex(data, regex_pattern):\n",
        "    ls = []\n",
        "    words = ''\n",
        "\n",
        "    for line in data:\n",
        "        matches = re.finditer(regex_pattern, line)\n",
        "\n",
        "        for m in matches:\n",
        "            line = re.sub(m.group().strip(), '', line)\n",
        "\n",
        "        ls.append(line)\n",
        "\n",
        "    return ls\n",
        "\n",
        "# hashtags\n",
        "regex_pattern = '#[\\w]*'\n",
        "X_train = _remove_regex(X_train, regex_pattern)\n",
        "X_test = _remove_regex(X_test, regex_pattern)\n",
        "\n",
        "\n",
        "# notations\n",
        "regex_pattern = '@[\\w]*'\n",
        "X_train = _remove_regex(X_train, regex_pattern)\n",
        "X_test = _remove_regex(X_test, regex_pattern)\n",
        "\n",
        "#emotion list\n",
        "def _replace_emoticons(data, emoticon_list):\n",
        "    ls = []\n",
        "\n",
        "    for line in data:\n",
        "        for exp in emoticon_list:\n",
        "            line = line.replace(exp, emoticon_list[exp])\n",
        "\n",
        "        ls.append(line)\n",
        "\n",
        "    return ls\n",
        "\n",
        "emoticon_list = {':))': 'positive_emoticon', ':)': 'positive_emoticon', ':D': 'positive_emoticon', ':(': 'negative_emoticon', ':((': 'negative_emoticon', '8)': 'neutral_emoticon'}\n",
        "\n",
        "X_train = _replace_emoticons(X_train, emoticon_list)\n",
        "X_test = _replace_emoticons(X_test, emoticon_list)\n",
        "\n",
        "\n",
        "#Tokenize text with nltk\n",
        "def _tokenize_text(data):\n",
        "    ls = []\n",
        "\n",
        "    for line in data:\n",
        "        tokens = wordpunct_tokenize(line)\n",
        "        ls.append(tokens)\n",
        "\n",
        "    return ls\n",
        "\n",
        "X_train_tokens = _tokenize_text(X_train)\n",
        "X_test_tokens = _tokenize_text(X_test)\n",
        "\n",
        "\n",
        "\n",
        "#Object Standardization\n",
        "def _apply_standardization(tokens, std_list):\n",
        "    ls = []\n",
        "\n",
        "    for tk_line in tokens:\n",
        "        new_tokens = []\n",
        "\n",
        "        for word in tk_line:\n",
        "            if word.lower() in std_list:\n",
        "                word = std_list[word.lower()]\n",
        "\n",
        "            new_tokens.append(word)\n",
        "\n",
        "        ls.append(new_tokens)\n",
        "\n",
        "    return ls\n",
        "# create your own list\n",
        "std_list = {'eh': 'é', 'vc': 'você', 'vcs': 'vocês','tb': 'também', 'tbm': 'também', 'obg': 'obrigado', 'gnt': 'gente', 'q': 'que', 'n': 'não', 'cmg': 'comigo', 'p': 'para', 'ta': 'está', 'to': 'estou', 'vdd': 'verdade'}\n",
        "\n",
        "X_train_tokens = _apply_standardization(X_train_tokens, std_list)\n",
        "X_test_tokens = _apply_standardization(X_test_tokens, std_list)\n",
        "\n",
        "\n",
        "#Remove stopwords\n",
        "\n",
        "def _remove_stopwords(tokens, stopword_list):\n",
        "    ls = []\n",
        "\n",
        "    for tk_line in tokens:\n",
        "        new_tokens = []\n",
        "\n",
        "        for word in tk_line:\n",
        "            if word.lower() not in stopword_list:\n",
        "                new_tokens.append(word)\n",
        "\n",
        "        ls.append(new_tokens)\n",
        "\n",
        "    return ls\n",
        "stopword_list = []\n",
        "# get nltk portuguese stopwords\n",
        "nltk_stopwords = nltk.corpus.stopwords.words('portuguese')\n",
        "\n",
        "X_train_tokens = _remove_stopwords(X_train_tokens, stopword_list)\n",
        "X_test_tokens = _remove_stopwords(X_test_tokens, stopword_list)\n",
        "\n",
        "#Stemming (dimensionality reduction)\n",
        "def _apply_stemmer(tokens):\n",
        "    ls = []\n",
        "    stemmer = nltk.stem.RSLPStemmer()\n",
        "\n",
        "    for tk_line in tokens:\n",
        "        new_tokens = []\n",
        "\n",
        "        for word in tk_line:\n",
        "            word = str(stemmer.stem(word))\n",
        "            new_tokens.append(word)\n",
        "\n",
        "        ls.append(new_tokens)\n",
        "\n",
        "    return ls\n",
        "\n",
        "X_train_tokens = _apply_stemmer(X_train_tokens)\n",
        "X_test_tokens = _apply_stemmer(X_test_tokens)\n",
        "\n",
        "\n",
        "#Frequency Distribution\n",
        "def _get_freq_dist_list(tokens):\n",
        "    ls = []\n",
        "\n",
        "    for tk_line in tokens:\n",
        "        for word in tk_line:\n",
        "            ls.append(word)\n",
        "\n",
        "    return ls\n",
        "\n",
        "# Frequency Distribution on training dataset\n",
        "fd_list = _get_freq_dist_list(X_train_tokens)\n",
        "fdist = FreqDist(fd_list)\n",
        "\n",
        "#Untokenize text (transform tokenized text into string list)\n",
        "def _untokenize_text(tokens):\n",
        "    ls = []\n",
        "\n",
        "    for tk_line in tokens:\n",
        "        new_line = ''\n",
        "\n",
        "        for word in tk_line:\n",
        "            new_line += word + ' '\n",
        "\n",
        "        ls.append(new_line)\n",
        "\n",
        "    return ls\n",
        "X_train = _untokenize_text(X_train_tokens)\n",
        "X_test = _untokenize_text(X_test_tokens)\n",
        "\n",
        "\n",
        "# create a count vectorizer object\n",
        "vectorizer = CountVectorizer()\n",
        "X_train_vect = vectorizer.fit_transform(X_train)\n",
        "\n",
        "#TF-IDF: use the transform(...) method to transform count-matrix to a tf-idf representation.\n",
        "tfidf_transformer = TfidfTransformer()\n",
        "X_train_tfidf = tfidf_transformer.fit_transform(X_train_vect)\n",
        "\n",
        "\n",
        "#===================================================================\n",
        "prtgmodel = MultinomialNB()\n",
        "prtgmodel.fit(X_train_tfidf, y_train)\n",
        "\n",
        "#=========================================== test it on an example-===============================\n",
        "\n",
        "def portgModel(new_corpus):\n",
        "    # Remove hashtags\n",
        "    X_new = _remove_url(new_corpus)\n",
        "    regex_pattern = '#[\\w]*'\n",
        "    X_new = _remove_regex(X_new, regex_pattern)\n",
        "\n",
        "    # Remove notations\n",
        "    regex_pattern = '@[\\w]*'\n",
        "    X_new = _remove_regex(X_new, regex_pattern)\n",
        "\n",
        "    # Replace emoticons \":)) :) :D :(\" to positive_emoticon or negative_emoticon or neutral_emoticon\n",
        "    X_new = _replace_emoticons(X_new, emoticon_list)\n",
        "\n",
        "    # Tokenize text\n",
        "    X_new_tokens = _tokenize_text(X_new)\n",
        "\n",
        "    # Object Standardization\n",
        "    X_new_tokens = _apply_standardization(X_new_tokens, std_list)\n",
        "\n",
        "    # remove stopwords\n",
        "    X_new_tokens = _remove_stopwords(X_new_tokens, stopword_list)\n",
        "\n",
        "    # Stemming (dimensionality reduction)\n",
        "    X_new_tokens = _apply_stemmer(X_new_tokens)\n",
        "\n",
        "    # Dataset preparation\n",
        "    # Untokenize text (transform tokenized text into string list)\n",
        "    X_new = _untokenize_text(X_new_tokens)\n",
        "\n",
        "    # Text to Features\n",
        "    # Feature extraction from text\n",
        "    # Method: bag of words\n",
        "    X_new_vect = vectorizer.transform(X_new)\n",
        "\n",
        "    # TF-IDF: Term Frequency - Inverse Document Frequency\n",
        "    # use the transform(...) method to transform count-matrix to a tf-idf representation.\n",
        "    X_new_tfidf = tfidf_transformer.transform(X_new_vect)\n",
        "\n",
        "    #Make predictions on new_corpus\n",
        "    standalone_predictions = prtgmodel.predict(X_new_tfidf)\n",
        "\n",
        "    for doc, prediction in zip(new_corpus, standalone_predictions):\n",
        "      print('%r => %s' % (doc, prediction))\n",
        "    return standalone_predictions\n",
        "\n",
        "\n",
        "\n"
      ],
      "id": "8wzw2JmzA2C8"
    },
    {
      "cell_type": "code",
      "execution_count": null,
      "metadata": {
        "id": "1JmG5IMgF6VX"
      },
      "outputs": [],
      "source": [
        "def portgModel(new_corpus):\n",
        "    # Remove hashtags\n",
        "    X_new = _remove_url([new_corpus])\n",
        "    regex_pattern = '#[\\w]*'\n",
        "    X_new = _remove_regex(X_new, regex_pattern)\n",
        "\n",
        "    # Remove notations\n",
        "    regex_pattern = '@[\\w]*'\n",
        "    X_new = _remove_regex(X_new, regex_pattern)\n",
        "\n",
        "    # Replace emoticons \":)) :) :D :(\" to positive_emoticon or negative_emoticon or neutral_emoticon\n",
        "    X_new = _replace_emoticons(X_new, emoticon_list)\n",
        "\n",
        "    # Tokenize text\n",
        "    X_new_tokens = _tokenize_text(X_new)\n",
        "\n",
        "    # Object Standardization\n",
        "    X_new_tokens = _apply_standardization(X_new_tokens, std_list)\n",
        "\n",
        "    # remove stopwords\n",
        "    X_new_tokens = _remove_stopwords(X_new_tokens, stopword_list)\n",
        "\n",
        "    # Stemming (dimensionality reduction)\n",
        "    X_new_tokens = _apply_stemmer(X_new_tokens)\n",
        "\n",
        "    # Dataset preparation\n",
        "    # Untokenize text (transform tokenized text into string list)\n",
        "    X_new = _untokenize_text(X_new_tokens)\n",
        "\n",
        "    # Text to Features\n",
        "    # Feature extraction from text\n",
        "    # Method: bag of words\n",
        "    X_new_vect = vectorizer.transform(X_new)\n",
        "\n",
        "    # TF-IDF: Term Frequency - Inverse Document Frequency\n",
        "    # use the transform(...) method to transform count-matrix to a tf-idf representation.\n",
        "    X_new_tfidf = tfidf_transformer.transform(X_new_vect)\n",
        "\n",
        "    #Make predictions on new_corpus\n",
        "    standalone_predictions = prtgmodel.predict(X_new_tfidf)\n",
        "\n",
        "    return standalone_predictions[0]\n",
        "\n",
        "\n",
        "\n"
      ],
      "id": "1JmG5IMgF6VX"
    },
    {
      "cell_type": "code",
      "execution_count": null,
      "metadata": {
        "colab": {
          "base_uri": "https://localhost:8080/"
        },
        "id": "MH47JE7WQ6Xy",
        "outputId": "4dd3e71a-52e4-450f-f7ca-738a5d2bb4c4"
      },
      "outputs": [
        {
          "data": {
            "text/plain": [
              "1.0"
            ]
          },
          "execution_count": 107,
          "metadata": {},
          "output_type": "execute_result"
        }
      ],
      "source": [
        "e=portgModel('marrocos é um grande país do mundo')\n",
        "#for doc, prediction in zip(['Estou feliz por si'], e):\n",
        "e\n"
      ],
      "id": "MH47JE7WQ6Xy"
    },
    {
      "cell_type": "code",
      "execution_count": null,
      "metadata": {
        "id": "NsOD7c0_A19U"
      },
      "outputs": [],
      "source": [],
      "id": "NsOD7c0_A19U"
    },
    {
      "cell_type": "code",
      "execution_count": null,
      "metadata": {
        "id": "69AYsGrlTvsJ"
      },
      "outputs": [],
      "source": [],
      "id": "69AYsGrlTvsJ"
    },
    {
      "cell_type": "code",
      "execution_count": null,
      "metadata": {
        "id": "cNTk8BcwVNBN"
      },
      "outputs": [],
      "source": [],
      "id": "cNTk8BcwVNBN"
    },
    {
      "cell_type": "markdown",
      "metadata": {
        "id": "_vyKbXxAm0B3"
      },
      "source": [
        "**Dutch model**"
      ],
      "id": "_vyKbXxAm0B3"
    },
    {
      "cell_type": "code",
      "execution_count": null,
      "metadata": {
        "id": "y4Y_5aWl9WKh"
      },
      "outputs": [],
      "source": [
        "from transformers import AutoTokenizer, AutoModelForSequenceClassification\n",
        "\n",
        "tokenizer = AutoTokenizer.from_pretrained(\"DTAI-KULeuven/robbert-v2-dutch-sentiment\")\n",
        "\n",
        "dutshmodel = AutoModelForSequenceClassification.from_pretrained(\"DTAI-KULeuven/robbert-v2-dutch-sentiment\")\n",
        "\n",
        "classifier = pipeline('sentiment-analysis', model=dutshmodel, tokenizer = tokenizer)"
      ],
      "id": "y4Y_5aWl9WKh"
    },
    {
      "cell_type": "code",
      "execution_count": null,
      "metadata": {
        "id": "lQn6jGkH9XQ_"
      },
      "outputs": [],
      "source": [
        "def dutshModel(txt):\n",
        "  result1 = classifier(txt)\n",
        "  return result1[0]['score']\n"
      ],
      "id": "lQn6jGkH9XQ_"
    },
    {
      "cell_type": "code",
      "execution_count": null,
      "metadata": {
        "colab": {
          "base_uri": "https://localhost:8080/"
        },
        "id": "WvyG2-yc9XM5",
        "outputId": "e966da87-6abb-4938-ffd7-84d5095dacd8"
      },
      "outputs": [
        {
          "data": {
            "text/plain": [
              "0.9988828301429749"
            ]
          },
          "execution_count": 43,
          "metadata": {},
          "output_type": "execute_result"
        }
      ],
      "source": [
        "q=dutshModel('Ik vind het mooi')\n",
        "q"
      ],
      "id": "WvyG2-yc9XM5"
    },
    {
      "cell_type": "markdown",
      "metadata": {
        "id": "JFIg2eQwoM_G"
      },
      "source": [
        "**Turkish model**"
      ],
      "id": "JFIg2eQwoM_G"
    },
    {
      "cell_type": "code",
      "execution_count": null,
      "metadata": {
        "id": "afeLrVPL9XHx"
      },
      "outputs": [],
      "source": [
        "from transformers import AutoModelForSequenceClassification, AutoTokenizer, pipeline\n",
        "turkishmodel = AutoModelForSequenceClassification.from_pretrained(\"savasy/bert-base-turkish-sentiment-cased\")\n",
        "tokenizer = AutoTokenizer.from_pretrained(\"savasy/bert-base-turkish-sentiment-cased\")\n",
        "sa= pipeline(\"sentiment-analysis\", tokenizer=tokenizer, model=turkishmodel)\n",
        "\n"
      ],
      "id": "afeLrVPL9XHx"
    },
    {
      "cell_type": "code",
      "execution_count": null,
      "metadata": {
        "id": "F9aLDVHrod9T"
      },
      "outputs": [],
      "source": [
        "def turkishModel(txt):\n",
        "    p= sa(txt)\n",
        "    return p[0]['score']\n",
        "\n"
      ],
      "id": "F9aLDVHrod9T"
    },
    {
      "cell_type": "code",
      "execution_count": null,
      "metadata": {
        "id": "8NsJ76RtDMH5"
      },
      "outputs": [],
      "source": [
        "o=turkishModel('Senin adına sevindim.')\n",
        "o"
      ],
      "id": "8NsJ76RtDMH5"
    },
    {
      "cell_type": "markdown",
      "metadata": {
        "id": "soe0OrbZpLFS"
      },
      "source": [
        "**Italien model**"
      ],
      "id": "soe0OrbZpLFS"
    },
    {
      "cell_type": "code",
      "execution_count": null,
      "metadata": {
        "id": "cZ0tWxEjosC2"
      },
      "outputs": [],
      "source": [
        "from transformers import pipeline\n",
        "italienclassifier = pipeline(\"text-classification\",model='MilaNLProc/feel-it-italian-sentiment',top_k=2)\n",
        "\n"
      ],
      "id": "cZ0tWxEjosC2"
    },
    {
      "cell_type": "code",
      "execution_count": null,
      "metadata": {
        "id": "P0lPj5UrpUXK"
      },
      "outputs": [],
      "source": [
        "def ItalienModel(txt):\n",
        "    prediction = italienclassifier(txt)[0]\n",
        "\n",
        "    pos= prediction[0]['score']\n",
        "    neg= prediction[1]['score']\n",
        "\n",
        "    if pos > neg:\n",
        "      return pos\n",
        "    else:\n",
        "      return neg\n",
        "\n",
        "\n",
        "\n",
        "\n"
      ],
      "id": "P0lPj5UrpUXK"
    },
    {
      "cell_type": "code",
      "execution_count": null,
      "metadata": {
        "colab": {
          "base_uri": "https://localhost:8080/"
        },
        "id": "TAxy4pSOD8sa",
        "outputId": "9c2ace96-504e-4c21-b5d5-0be6d0594981"
      },
      "outputs": [
        {
          "data": {
            "text/plain": [
              "0.9997411370277405"
            ]
          },
          "execution_count": 49,
          "metadata": {},
          "output_type": "execute_result"
        }
      ],
      "source": [
        "t=ItalienModel(\"Oggi sono proprio contento!\")\n",
        "t"
      ],
      "id": "TAxy4pSOD8sa"
    },
    {
      "cell_type": "code",
      "execution_count": null,
      "metadata": {
        "id": "0wK-8JfAEQso"
      },
      "outputs": [],
      "source": [],
      "id": "0wK-8JfAEQso"
    },
    {
      "cell_type": "markdown",
      "metadata": {
        "id": "oK_wAisLMpgZ"
      },
      "source": [
        "# **Sentiment analysis for scraped alocine dataset**"
      ],
      "id": "oK_wAisLMpgZ"
    },
    {
      "cell_type": "code",
      "execution_count": null,
      "metadata": {
        "id": "QpPJczjLMubv"
      },
      "outputs": [],
      "source": [
        "alocineDataset=pd.read_csv(\"Rev.csv\")\n",
        "reviews = alocineDataset['review']"
      ],
      "id": "QpPJczjLMubv"
    },
    {
      "cell_type": "code",
      "execution_count": null,
      "metadata": {
        "colab": {
          "base_uri": "https://localhost:8080/"
        },
        "id": "zCmA0_NEN1Ur",
        "outputId": "07862578-5c7b-4942-8339-8ab42757e074"
      },
      "outputs": [
        {
          "data": {
            "text/plain": [
              "0"
            ]
          },
          "execution_count": 237,
          "metadata": {},
          "output_type": "execute_result"
        }
      ],
      "source": [
        "reviews.isnull().sum()"
      ],
      "id": "zCmA0_NEN1Ur"
    },
    {
      "cell_type": "code",
      "execution_count": null,
      "metadata": {
        "colab": {
          "base_uri": "https://localhost:8080/"
        },
        "id": "GumWxF2XmZdi",
        "outputId": "74b6de50-04b8-4d80-fcac-4b467aab4668"
      },
      "outputs": [
        {
          "data": {
            "text/plain": [
              "21342"
            ]
          },
          "execution_count": 110,
          "metadata": {},
          "output_type": "execute_result"
        }
      ],
      "source": [
        "len(reviews)"
      ],
      "id": "GumWxF2XmZdi"
    },
    {
      "cell_type": "code",
      "execution_count": null,
      "metadata": {
        "id": "9rQCAAnoOxQi"
      },
      "outputs": [],
      "source": [
        "ln=len(alocineReviews['review'])\n",
        "wholeRes=[]\n",
        "\n",
        "for i in range(21342,ln):\n",
        "  resultat={}\n",
        "  print(i)\n",
        "  resultat['id']=i\n",
        "  comm=alocineReviews['review'][i][:511]\n",
        "  reviewLanguage =language(comm)\n",
        "  if reviewLanguage=='French':\n",
        "    res=frenshModel(comm)\n",
        "  elif reviewLanguage=='Spanish':\n",
        "    res=spanishModel(comm)\n",
        "  elif reviewLanguage=='Portugeese':\n",
        "    res=portgModel(comm)\n",
        "  elif reviewLanguage=='Dutch':\n",
        "    res=dutshModel(comm)\n",
        "  elif reviewLanguage=='Turkish':\n",
        "    res=turkishModel(comm)\n",
        "  elif reviewLanguage=='Italian':\n",
        "    res=ItalienModel(comm)\n",
        "  else:\n",
        "    res=englishModel(comm)\n",
        "\n",
        "  if res>0.50:\n",
        "    resultat['res']=1.0\n",
        "  elif res<0.50:\n",
        "    resultat['res']=0.0\n",
        "  else:\n",
        "    pass\n",
        "  wholeRes.append(resultat)\n",
        "\n",
        "\n",
        "\n"
      ],
      "id": "9rQCAAnoOxQi"
    },
    {
      "cell_type": "code",
      "execution_count": null,
      "metadata": {
        "id": "In7kjsTGZGQ7"
      },
      "outputs": [],
      "source": [
        "\n",
        "wholeresults=pd.DataFrame(wholeRes)"
      ],
      "id": "In7kjsTGZGQ7"
    },
    {
      "cell_type": "code",
      "execution_count": null,
      "metadata": {
        "id": "EegwIu79Y5Tp"
      },
      "outputs": [],
      "source": [
        "wholeresults.to_csv(\"wholeresults4.csv\")"
      ],
      "id": "EegwIu79Y5Tp"
    },
    {
      "cell_type": "code",
      "execution_count": null,
      "metadata": {
        "id": "5MvQcp_Y_b6m"
      },
      "outputs": [],
      "source": [
        "import pandas as pd"
      ],
      "id": "5MvQcp_Y_b6m"
    },
    {
      "cell_type": "code",
      "execution_count": null,
      "metadata": {
        "id": "EYT5ItYP-Ai6"
      },
      "outputs": [],
      "source": [
        "wholeresults1= pd.read_csv(\"wholeresults.csv\")\n",
        "wholeresults3=pd.read_csv(\"wholeresults3.csv\")\n",
        "wholeresults4=pd.read_csv(\"wholeresults4.csv\")"
      ],
      "id": "EYT5ItYP-Ai6"
    },
    {
      "cell_type": "code",
      "execution_count": null,
      "metadata": {
        "colab": {
          "base_uri": "https://localhost:8080/"
        },
        "id": "8kASCBY0Dlg0",
        "outputId": "38ccbba2-f8f6-4395-8f33-f0bbf9af4522"
      },
      "outputs": [
        {
          "name": "stdout",
          "output_type": "stream",
          "text": [
            "wholeresults1 shape: (1744, 3)\n",
            "wholeresults3 shape: (5417, 3)\n",
            "wholeresults4 shape: (14181, 3)\n"
          ]
        }
      ],
      "source": [
        "print(\"wholeresults1 shape:\",wholeresults1.shape)\n",
        "print(\"wholeresults3 shape:\",wholeresults3.shape)\n",
        "print(\"wholeresults4 shape:\",wholeresults4.shape)"
      ],
      "id": "8kASCBY0Dlg0"
    },
    {
      "cell_type": "code",
      "execution_count": null,
      "metadata": {
        "id": "QP33w5xOGIe4"
      },
      "outputs": [],
      "source": [
        "wholeresults1.rename(columns = {'id':'comm_id'}, inplace = True)\n",
        "wholeresults3.rename(columns = {'id':'comm_id'}, inplace = True)\n",
        "wholeresults4.rename(columns = {'id':'comm_id'}, inplace = True)\n"
      ],
      "id": "QP33w5xOGIe4"
    },
    {
      "cell_type": "code",
      "execution_count": null,
      "metadata": {
        "id": "THNNurb7-mP4"
      },
      "outputs": [],
      "source": [
        "sentimentRes=wholeresults1.append(wholeresults3,ignore_index = True)\n",
        "sentimentRes=sentimentRes.append(wholeresults4,ignore_index = True)\n"
      ],
      "id": "THNNurb7-mP4"
    },
    {
      "cell_type": "code",
      "execution_count": null,
      "metadata": {
        "colab": {
          "base_uri": "https://localhost:8080/",
          "height": 238
        },
        "id": "6rO_j9OsBFB6",
        "outputId": "6a8ec4d1-0405-4766-d555-4a7e039e6bb5"
      },
      "outputs": [
        {
          "output_type": "execute_result",
          "data": {
            "text/plain": [
              "         Unnamed: 0  Unnamed: 0.1  res\n",
              "comm_id                               \n",
              "0                 0             0  1.0\n",
              "1                 1             1  1.0\n",
              "2                 2             2  1.0\n",
              "3                 3             3  1.0\n",
              "4                 4             4  0.0"
            ],
            "text/html": [
              "\n",
              "  <div id=\"df-900576ab-3bab-498e-a121-ed7c1365baba\">\n",
              "    <div class=\"colab-df-container\">\n",
              "      <div>\n",
              "<style scoped>\n",
              "    .dataframe tbody tr th:only-of-type {\n",
              "        vertical-align: middle;\n",
              "    }\n",
              "\n",
              "    .dataframe tbody tr th {\n",
              "        vertical-align: top;\n",
              "    }\n",
              "\n",
              "    .dataframe thead th {\n",
              "        text-align: right;\n",
              "    }\n",
              "</style>\n",
              "<table border=\"1\" class=\"dataframe\">\n",
              "  <thead>\n",
              "    <tr style=\"text-align: right;\">\n",
              "      <th></th>\n",
              "      <th>Unnamed: 0</th>\n",
              "      <th>Unnamed: 0.1</th>\n",
              "      <th>res</th>\n",
              "    </tr>\n",
              "    <tr>\n",
              "      <th>comm_id</th>\n",
              "      <th></th>\n",
              "      <th></th>\n",
              "      <th></th>\n",
              "    </tr>\n",
              "  </thead>\n",
              "  <tbody>\n",
              "    <tr>\n",
              "      <th>0</th>\n",
              "      <td>0</td>\n",
              "      <td>0</td>\n",
              "      <td>1.0</td>\n",
              "    </tr>\n",
              "    <tr>\n",
              "      <th>1</th>\n",
              "      <td>1</td>\n",
              "      <td>1</td>\n",
              "      <td>1.0</td>\n",
              "    </tr>\n",
              "    <tr>\n",
              "      <th>2</th>\n",
              "      <td>2</td>\n",
              "      <td>2</td>\n",
              "      <td>1.0</td>\n",
              "    </tr>\n",
              "    <tr>\n",
              "      <th>3</th>\n",
              "      <td>3</td>\n",
              "      <td>3</td>\n",
              "      <td>1.0</td>\n",
              "    </tr>\n",
              "    <tr>\n",
              "      <th>4</th>\n",
              "      <td>4</td>\n",
              "      <td>4</td>\n",
              "      <td>0.0</td>\n",
              "    </tr>\n",
              "  </tbody>\n",
              "</table>\n",
              "</div>\n",
              "      <button class=\"colab-df-convert\" onclick=\"convertToInteractive('df-900576ab-3bab-498e-a121-ed7c1365baba')\"\n",
              "              title=\"Convert this dataframe to an interactive table.\"\n",
              "              style=\"display:none;\">\n",
              "        \n",
              "  <svg xmlns=\"http://www.w3.org/2000/svg\" height=\"24px\"viewBox=\"0 0 24 24\"\n",
              "       width=\"24px\">\n",
              "    <path d=\"M0 0h24v24H0V0z\" fill=\"none\"/>\n",
              "    <path d=\"M18.56 5.44l.94 2.06.94-2.06 2.06-.94-2.06-.94-.94-2.06-.94 2.06-2.06.94zm-11 1L8.5 8.5l.94-2.06 2.06-.94-2.06-.94L8.5 2.5l-.94 2.06-2.06.94zm10 10l.94 2.06.94-2.06 2.06-.94-2.06-.94-.94-2.06-.94 2.06-2.06.94z\"/><path d=\"M17.41 7.96l-1.37-1.37c-.4-.4-.92-.59-1.43-.59-.52 0-1.04.2-1.43.59L10.3 9.45l-7.72 7.72c-.78.78-.78 2.05 0 2.83L4 21.41c.39.39.9.59 1.41.59.51 0 1.02-.2 1.41-.59l7.78-7.78 2.81-2.81c.8-.78.8-2.07 0-2.86zM5.41 20L4 18.59l7.72-7.72 1.47 1.35L5.41 20z\"/>\n",
              "  </svg>\n",
              "      </button>\n",
              "      \n",
              "  <style>\n",
              "    .colab-df-container {\n",
              "      display:flex;\n",
              "      flex-wrap:wrap;\n",
              "      gap: 12px;\n",
              "    }\n",
              "\n",
              "    .colab-df-convert {\n",
              "      background-color: #E8F0FE;\n",
              "      border: none;\n",
              "      border-radius: 50%;\n",
              "      cursor: pointer;\n",
              "      display: none;\n",
              "      fill: #1967D2;\n",
              "      height: 32px;\n",
              "      padding: 0 0 0 0;\n",
              "      width: 32px;\n",
              "    }\n",
              "\n",
              "    .colab-df-convert:hover {\n",
              "      background-color: #E2EBFA;\n",
              "      box-shadow: 0px 1px 2px rgba(60, 64, 67, 0.3), 0px 1px 3px 1px rgba(60, 64, 67, 0.15);\n",
              "      fill: #174EA6;\n",
              "    }\n",
              "\n",
              "    [theme=dark] .colab-df-convert {\n",
              "      background-color: #3B4455;\n",
              "      fill: #D2E3FC;\n",
              "    }\n",
              "\n",
              "    [theme=dark] .colab-df-convert:hover {\n",
              "      background-color: #434B5C;\n",
              "      box-shadow: 0px 1px 3px 1px rgba(0, 0, 0, 0.15);\n",
              "      filter: drop-shadow(0px 1px 2px rgba(0, 0, 0, 0.3));\n",
              "      fill: #FFFFFF;\n",
              "    }\n",
              "  </style>\n",
              "\n",
              "      <script>\n",
              "        const buttonEl =\n",
              "          document.querySelector('#df-900576ab-3bab-498e-a121-ed7c1365baba button.colab-df-convert');\n",
              "        buttonEl.style.display =\n",
              "          google.colab.kernel.accessAllowed ? 'block' : 'none';\n",
              "\n",
              "        async function convertToInteractive(key) {\n",
              "          const element = document.querySelector('#df-900576ab-3bab-498e-a121-ed7c1365baba');\n",
              "          const dataTable =\n",
              "            await google.colab.kernel.invokeFunction('convertToInteractive',\n",
              "                                                     [key], {});\n",
              "          if (!dataTable) return;\n",
              "\n",
              "          const docLinkHtml = 'Like what you see? Visit the ' +\n",
              "            '<a target=\"_blank\" href=https://colab.research.google.com/notebooks/data_table.ipynb>data table notebook</a>'\n",
              "            + ' to learn more about interactive tables.';\n",
              "          element.innerHTML = '';\n",
              "          dataTable['output_type'] = 'display_data';\n",
              "          await google.colab.output.renderOutput(dataTable, element);\n",
              "          const docLink = document.createElement('div');\n",
              "          docLink.innerHTML = docLinkHtml;\n",
              "          element.appendChild(docLink);\n",
              "        }\n",
              "      </script>\n",
              "    </div>\n",
              "  </div>\n",
              "  "
            ]
          },
          "metadata": {},
          "execution_count": 10
        }
      ],
      "source": [
        "\n",
        "sentimentResv=pd.read_csv(\"sentimentRes (1).csv\")\n",
        "sentimentResv.set_index('comm_id', inplace = True)\n",
        "sentimentResv.head()"
      ],
      "id": "6rO_j9OsBFB6"
    },
    {
      "cell_type": "code",
      "source": [
        "alocineDataset.head()"
      ],
      "metadata": {
        "colab": {
          "base_uri": "https://localhost:8080/",
          "height": 206
        },
        "id": "1xmduoUr9X13",
        "outputId": "dc0ebb9f-cb49-40a8-bc6e-c288328372af"
      },
      "id": "1xmduoUr9X13",
      "execution_count": null,
      "outputs": [
        {
          "output_type": "execute_result",
          "data": {
            "text/plain": [
              "   Unnamed: 0  id     MovieName             user  \\\n",
              "0           0   1  Forrest Gump      Un visiteur   \n",
              "1           1   2  Forrest Gump  chrischambers86   \n",
              "2           2   3  Forrest Gump           Loskof   \n",
              "3           3   4  Forrest Gump          Chris46   \n",
              "4           4   5  Forrest Gump    MaCultureGeek   \n",
              "\n",
              "                                              review  note  \n",
              "0  Forrest Gump de Robert Zemeckis (réalisateur d...   5.0  \n",
              "1  Une immense rèussite du cinèma hollywoodien! R...   4.0  \n",
              "2  Un film immense, rempli de poésie et de bons s...   5.0  \n",
              "3  Un très grand film . Ce film suit la vie sur p...   5.0  \n",
              "4  Le matin, quand il fait bon et beau, normal qu...   5.0  "
            ],
            "text/html": [
              "\n",
              "  <div id=\"df-4e4ae1d0-ad0d-449d-a24b-cf1c00ae08d4\">\n",
              "    <div class=\"colab-df-container\">\n",
              "      <div>\n",
              "<style scoped>\n",
              "    .dataframe tbody tr th:only-of-type {\n",
              "        vertical-align: middle;\n",
              "    }\n",
              "\n",
              "    .dataframe tbody tr th {\n",
              "        vertical-align: top;\n",
              "    }\n",
              "\n",
              "    .dataframe thead th {\n",
              "        text-align: right;\n",
              "    }\n",
              "</style>\n",
              "<table border=\"1\" class=\"dataframe\">\n",
              "  <thead>\n",
              "    <tr style=\"text-align: right;\">\n",
              "      <th></th>\n",
              "      <th>Unnamed: 0</th>\n",
              "      <th>id</th>\n",
              "      <th>MovieName</th>\n",
              "      <th>user</th>\n",
              "      <th>review</th>\n",
              "      <th>note</th>\n",
              "    </tr>\n",
              "  </thead>\n",
              "  <tbody>\n",
              "    <tr>\n",
              "      <th>0</th>\n",
              "      <td>0</td>\n",
              "      <td>1</td>\n",
              "      <td>Forrest Gump</td>\n",
              "      <td>Un visiteur</td>\n",
              "      <td>Forrest Gump de Robert Zemeckis (réalisateur d...</td>\n",
              "      <td>5.0</td>\n",
              "    </tr>\n",
              "    <tr>\n",
              "      <th>1</th>\n",
              "      <td>1</td>\n",
              "      <td>2</td>\n",
              "      <td>Forrest Gump</td>\n",
              "      <td>chrischambers86</td>\n",
              "      <td>Une immense rèussite du cinèma hollywoodien! R...</td>\n",
              "      <td>4.0</td>\n",
              "    </tr>\n",
              "    <tr>\n",
              "      <th>2</th>\n",
              "      <td>2</td>\n",
              "      <td>3</td>\n",
              "      <td>Forrest Gump</td>\n",
              "      <td>Loskof</td>\n",
              "      <td>Un film immense, rempli de poésie et de bons s...</td>\n",
              "      <td>5.0</td>\n",
              "    </tr>\n",
              "    <tr>\n",
              "      <th>3</th>\n",
              "      <td>3</td>\n",
              "      <td>4</td>\n",
              "      <td>Forrest Gump</td>\n",
              "      <td>Chris46</td>\n",
              "      <td>Un très grand film . Ce film suit la vie sur p...</td>\n",
              "      <td>5.0</td>\n",
              "    </tr>\n",
              "    <tr>\n",
              "      <th>4</th>\n",
              "      <td>4</td>\n",
              "      <td>5</td>\n",
              "      <td>Forrest Gump</td>\n",
              "      <td>MaCultureGeek</td>\n",
              "      <td>Le matin, quand il fait bon et beau, normal qu...</td>\n",
              "      <td>5.0</td>\n",
              "    </tr>\n",
              "  </tbody>\n",
              "</table>\n",
              "</div>\n",
              "      <button class=\"colab-df-convert\" onclick=\"convertToInteractive('df-4e4ae1d0-ad0d-449d-a24b-cf1c00ae08d4')\"\n",
              "              title=\"Convert this dataframe to an interactive table.\"\n",
              "              style=\"display:none;\">\n",
              "        \n",
              "  <svg xmlns=\"http://www.w3.org/2000/svg\" height=\"24px\"viewBox=\"0 0 24 24\"\n",
              "       width=\"24px\">\n",
              "    <path d=\"M0 0h24v24H0V0z\" fill=\"none\"/>\n",
              "    <path d=\"M18.56 5.44l.94 2.06.94-2.06 2.06-.94-2.06-.94-.94-2.06-.94 2.06-2.06.94zm-11 1L8.5 8.5l.94-2.06 2.06-.94-2.06-.94L8.5 2.5l-.94 2.06-2.06.94zm10 10l.94 2.06.94-2.06 2.06-.94-2.06-.94-.94-2.06-.94 2.06-2.06.94z\"/><path d=\"M17.41 7.96l-1.37-1.37c-.4-.4-.92-.59-1.43-.59-.52 0-1.04.2-1.43.59L10.3 9.45l-7.72 7.72c-.78.78-.78 2.05 0 2.83L4 21.41c.39.39.9.59 1.41.59.51 0 1.02-.2 1.41-.59l7.78-7.78 2.81-2.81c.8-.78.8-2.07 0-2.86zM5.41 20L4 18.59l7.72-7.72 1.47 1.35L5.41 20z\"/>\n",
              "  </svg>\n",
              "      </button>\n",
              "      \n",
              "  <style>\n",
              "    .colab-df-container {\n",
              "      display:flex;\n",
              "      flex-wrap:wrap;\n",
              "      gap: 12px;\n",
              "    }\n",
              "\n",
              "    .colab-df-convert {\n",
              "      background-color: #E8F0FE;\n",
              "      border: none;\n",
              "      border-radius: 50%;\n",
              "      cursor: pointer;\n",
              "      display: none;\n",
              "      fill: #1967D2;\n",
              "      height: 32px;\n",
              "      padding: 0 0 0 0;\n",
              "      width: 32px;\n",
              "    }\n",
              "\n",
              "    .colab-df-convert:hover {\n",
              "      background-color: #E2EBFA;\n",
              "      box-shadow: 0px 1px 2px rgba(60, 64, 67, 0.3), 0px 1px 3px 1px rgba(60, 64, 67, 0.15);\n",
              "      fill: #174EA6;\n",
              "    }\n",
              "\n",
              "    [theme=dark] .colab-df-convert {\n",
              "      background-color: #3B4455;\n",
              "      fill: #D2E3FC;\n",
              "    }\n",
              "\n",
              "    [theme=dark] .colab-df-convert:hover {\n",
              "      background-color: #434B5C;\n",
              "      box-shadow: 0px 1px 3px 1px rgba(0, 0, 0, 0.15);\n",
              "      filter: drop-shadow(0px 1px 2px rgba(0, 0, 0, 0.3));\n",
              "      fill: #FFFFFF;\n",
              "    }\n",
              "  </style>\n",
              "\n",
              "      <script>\n",
              "        const buttonEl =\n",
              "          document.querySelector('#df-4e4ae1d0-ad0d-449d-a24b-cf1c00ae08d4 button.colab-df-convert');\n",
              "        buttonEl.style.display =\n",
              "          google.colab.kernel.accessAllowed ? 'block' : 'none';\n",
              "\n",
              "        async function convertToInteractive(key) {\n",
              "          const element = document.querySelector('#df-4e4ae1d0-ad0d-449d-a24b-cf1c00ae08d4');\n",
              "          const dataTable =\n",
              "            await google.colab.kernel.invokeFunction('convertToInteractive',\n",
              "                                                     [key], {});\n",
              "          if (!dataTable) return;\n",
              "\n",
              "          const docLinkHtml = 'Like what you see? Visit the ' +\n",
              "            '<a target=\"_blank\" href=https://colab.research.google.com/notebooks/data_table.ipynb>data table notebook</a>'\n",
              "            + ' to learn more about interactive tables.';\n",
              "          element.innerHTML = '';\n",
              "          dataTable['output_type'] = 'display_data';\n",
              "          await google.colab.output.renderOutput(dataTable, element);\n",
              "          const docLink = document.createElement('div');\n",
              "          docLink.innerHTML = docLinkHtml;\n",
              "          element.appendChild(docLink);\n",
              "        }\n",
              "      </script>\n",
              "    </div>\n",
              "  </div>\n",
              "  "
            ]
          },
          "metadata": {},
          "execution_count": 5
        }
      ]
    },
    {
      "cell_type": "code",
      "source": [
        "\n",
        "inner_merged"
      ],
      "metadata": {
        "colab": {
          "base_uri": "https://localhost:8080/",
          "height": 690
        },
        "id": "ONm_stgi9yhu",
        "outputId": "9f376a39-0202-426a-e079-2a9acb3c7ada"
      },
      "id": "ONm_stgi9yhu",
      "execution_count": null,
      "outputs": [
        {
          "output_type": "execute_result",
          "data": {
            "text/plain": [
              "            id              MovieName             user  \\\n",
              "comm_id                                                  \n",
              "0            1           Forrest Gump      Un visiteur   \n",
              "1            2           Forrest Gump  chrischambers86   \n",
              "2            3           Forrest Gump           Loskof   \n",
              "3            4           Forrest Gump          Chris46   \n",
              "4            5           Forrest Gump    MaCultureGeek   \n",
              "...        ...                    ...              ...   \n",
              "21337    21338  The Dark Knight Rises    Superherautre   \n",
              "21338    21339  The Dark Knight Rises              Joh   \n",
              "21339    21340  The Dark Knight Rises      Un visiteur   \n",
              "21340    21341  The Dark Knight Rises      Un visiteur   \n",
              "21341    21342  The Dark Knight Rises         Boomster   \n",
              "\n",
              "                                                    review  note  Unnamed: 0  \\\n",
              "comm_id                                                                        \n",
              "0        Forrest Gump de Robert Zemeckis (réalisateur d...   5.0           0   \n",
              "1        Une immense rèussite du cinèma hollywoodien! R...   4.0           1   \n",
              "2        Un film immense, rempli de poésie et de bons s...   5.0           2   \n",
              "3        Un très grand film . Ce film suit la vie sur p...   5.0           3   \n",
              "4        Le matin, quand il fait bon et beau, normal qu...   5.0           4   \n",
              "...                                                    ...   ...         ...   \n",
              "21337    Le film est vraiment excellent, très sombre et...   4.0       21337   \n",
              "21338    Comment conclure une excellente trilogie ? Et ...   4.0       21338   \n",
              "21339    Scenario,jeu des acteurs,dialogues tout est af...   0.0       21339   \n",
              "21340    Dernier volet de la saga du Dark Knight, The D...   4.0       21340   \n",
              "21341    Je l attendais et le redoutais. Comment faire ...   4.0       21341   \n",
              "\n",
              "         Unnamed: 0.1  res  \n",
              "comm_id                     \n",
              "0                   0  1.0  \n",
              "1                   1  1.0  \n",
              "2                   2  1.0  \n",
              "3                   3  1.0  \n",
              "4                   4  0.0  \n",
              "...               ...  ...  \n",
              "21337           14176  1.0  \n",
              "21338           14177  0.0  \n",
              "21339           14178  1.0  \n",
              "21340           14179  1.0  \n",
              "21341           14180  0.0  \n",
              "\n",
              "[21342 rows x 8 columns]"
            ],
            "text/html": [
              "\n",
              "  <div id=\"df-1be52992-f28f-4807-97f0-3c46763de8bf\">\n",
              "    <div class=\"colab-df-container\">\n",
              "      <div>\n",
              "<style scoped>\n",
              "    .dataframe tbody tr th:only-of-type {\n",
              "        vertical-align: middle;\n",
              "    }\n",
              "\n",
              "    .dataframe tbody tr th {\n",
              "        vertical-align: top;\n",
              "    }\n",
              "\n",
              "    .dataframe thead th {\n",
              "        text-align: right;\n",
              "    }\n",
              "</style>\n",
              "<table border=\"1\" class=\"dataframe\">\n",
              "  <thead>\n",
              "    <tr style=\"text-align: right;\">\n",
              "      <th></th>\n",
              "      <th>id</th>\n",
              "      <th>MovieName</th>\n",
              "      <th>user</th>\n",
              "      <th>review</th>\n",
              "      <th>note</th>\n",
              "      <th>Unnamed: 0</th>\n",
              "      <th>Unnamed: 0.1</th>\n",
              "      <th>res</th>\n",
              "    </tr>\n",
              "    <tr>\n",
              "      <th>comm_id</th>\n",
              "      <th></th>\n",
              "      <th></th>\n",
              "      <th></th>\n",
              "      <th></th>\n",
              "      <th></th>\n",
              "      <th></th>\n",
              "      <th></th>\n",
              "      <th></th>\n",
              "    </tr>\n",
              "  </thead>\n",
              "  <tbody>\n",
              "    <tr>\n",
              "      <th>0</th>\n",
              "      <td>1</td>\n",
              "      <td>Forrest Gump</td>\n",
              "      <td>Un visiteur</td>\n",
              "      <td>Forrest Gump de Robert Zemeckis (réalisateur d...</td>\n",
              "      <td>5.0</td>\n",
              "      <td>0</td>\n",
              "      <td>0</td>\n",
              "      <td>1.0</td>\n",
              "    </tr>\n",
              "    <tr>\n",
              "      <th>1</th>\n",
              "      <td>2</td>\n",
              "      <td>Forrest Gump</td>\n",
              "      <td>chrischambers86</td>\n",
              "      <td>Une immense rèussite du cinèma hollywoodien! R...</td>\n",
              "      <td>4.0</td>\n",
              "      <td>1</td>\n",
              "      <td>1</td>\n",
              "      <td>1.0</td>\n",
              "    </tr>\n",
              "    <tr>\n",
              "      <th>2</th>\n",
              "      <td>3</td>\n",
              "      <td>Forrest Gump</td>\n",
              "      <td>Loskof</td>\n",
              "      <td>Un film immense, rempli de poésie et de bons s...</td>\n",
              "      <td>5.0</td>\n",
              "      <td>2</td>\n",
              "      <td>2</td>\n",
              "      <td>1.0</td>\n",
              "    </tr>\n",
              "    <tr>\n",
              "      <th>3</th>\n",
              "      <td>4</td>\n",
              "      <td>Forrest Gump</td>\n",
              "      <td>Chris46</td>\n",
              "      <td>Un très grand film . Ce film suit la vie sur p...</td>\n",
              "      <td>5.0</td>\n",
              "      <td>3</td>\n",
              "      <td>3</td>\n",
              "      <td>1.0</td>\n",
              "    </tr>\n",
              "    <tr>\n",
              "      <th>4</th>\n",
              "      <td>5</td>\n",
              "      <td>Forrest Gump</td>\n",
              "      <td>MaCultureGeek</td>\n",
              "      <td>Le matin, quand il fait bon et beau, normal qu...</td>\n",
              "      <td>5.0</td>\n",
              "      <td>4</td>\n",
              "      <td>4</td>\n",
              "      <td>0.0</td>\n",
              "    </tr>\n",
              "    <tr>\n",
              "      <th>...</th>\n",
              "      <td>...</td>\n",
              "      <td>...</td>\n",
              "      <td>...</td>\n",
              "      <td>...</td>\n",
              "      <td>...</td>\n",
              "      <td>...</td>\n",
              "      <td>...</td>\n",
              "      <td>...</td>\n",
              "    </tr>\n",
              "    <tr>\n",
              "      <th>21337</th>\n",
              "      <td>21338</td>\n",
              "      <td>The Dark Knight Rises</td>\n",
              "      <td>Superherautre</td>\n",
              "      <td>Le film est vraiment excellent, très sombre et...</td>\n",
              "      <td>4.0</td>\n",
              "      <td>21337</td>\n",
              "      <td>14176</td>\n",
              "      <td>1.0</td>\n",
              "    </tr>\n",
              "    <tr>\n",
              "      <th>21338</th>\n",
              "      <td>21339</td>\n",
              "      <td>The Dark Knight Rises</td>\n",
              "      <td>Joh</td>\n",
              "      <td>Comment conclure une excellente trilogie ? Et ...</td>\n",
              "      <td>4.0</td>\n",
              "      <td>21338</td>\n",
              "      <td>14177</td>\n",
              "      <td>0.0</td>\n",
              "    </tr>\n",
              "    <tr>\n",
              "      <th>21339</th>\n",
              "      <td>21340</td>\n",
              "      <td>The Dark Knight Rises</td>\n",
              "      <td>Un visiteur</td>\n",
              "      <td>Scenario,jeu des acteurs,dialogues tout est af...</td>\n",
              "      <td>0.0</td>\n",
              "      <td>21339</td>\n",
              "      <td>14178</td>\n",
              "      <td>1.0</td>\n",
              "    </tr>\n",
              "    <tr>\n",
              "      <th>21340</th>\n",
              "      <td>21341</td>\n",
              "      <td>The Dark Knight Rises</td>\n",
              "      <td>Un visiteur</td>\n",
              "      <td>Dernier volet de la saga du Dark Knight, The D...</td>\n",
              "      <td>4.0</td>\n",
              "      <td>21340</td>\n",
              "      <td>14179</td>\n",
              "      <td>1.0</td>\n",
              "    </tr>\n",
              "    <tr>\n",
              "      <th>21341</th>\n",
              "      <td>21342</td>\n",
              "      <td>The Dark Knight Rises</td>\n",
              "      <td>Boomster</td>\n",
              "      <td>Je l attendais et le redoutais. Comment faire ...</td>\n",
              "      <td>4.0</td>\n",
              "      <td>21341</td>\n",
              "      <td>14180</td>\n",
              "      <td>0.0</td>\n",
              "    </tr>\n",
              "  </tbody>\n",
              "</table>\n",
              "<p>21342 rows × 8 columns</p>\n",
              "</div>\n",
              "      <button class=\"colab-df-convert\" onclick=\"convertToInteractive('df-1be52992-f28f-4807-97f0-3c46763de8bf')\"\n",
              "              title=\"Convert this dataframe to an interactive table.\"\n",
              "              style=\"display:none;\">\n",
              "        \n",
              "  <svg xmlns=\"http://www.w3.org/2000/svg\" height=\"24px\"viewBox=\"0 0 24 24\"\n",
              "       width=\"24px\">\n",
              "    <path d=\"M0 0h24v24H0V0z\" fill=\"none\"/>\n",
              "    <path d=\"M18.56 5.44l.94 2.06.94-2.06 2.06-.94-2.06-.94-.94-2.06-.94 2.06-2.06.94zm-11 1L8.5 8.5l.94-2.06 2.06-.94-2.06-.94L8.5 2.5l-.94 2.06-2.06.94zm10 10l.94 2.06.94-2.06 2.06-.94-2.06-.94-.94-2.06-.94 2.06-2.06.94z\"/><path d=\"M17.41 7.96l-1.37-1.37c-.4-.4-.92-.59-1.43-.59-.52 0-1.04.2-1.43.59L10.3 9.45l-7.72 7.72c-.78.78-.78 2.05 0 2.83L4 21.41c.39.39.9.59 1.41.59.51 0 1.02-.2 1.41-.59l7.78-7.78 2.81-2.81c.8-.78.8-2.07 0-2.86zM5.41 20L4 18.59l7.72-7.72 1.47 1.35L5.41 20z\"/>\n",
              "  </svg>\n",
              "      </button>\n",
              "      \n",
              "  <style>\n",
              "    .colab-df-container {\n",
              "      display:flex;\n",
              "      flex-wrap:wrap;\n",
              "      gap: 12px;\n",
              "    }\n",
              "\n",
              "    .colab-df-convert {\n",
              "      background-color: #E8F0FE;\n",
              "      border: none;\n",
              "      border-radius: 50%;\n",
              "      cursor: pointer;\n",
              "      display: none;\n",
              "      fill: #1967D2;\n",
              "      height: 32px;\n",
              "      padding: 0 0 0 0;\n",
              "      width: 32px;\n",
              "    }\n",
              "\n",
              "    .colab-df-convert:hover {\n",
              "      background-color: #E2EBFA;\n",
              "      box-shadow: 0px 1px 2px rgba(60, 64, 67, 0.3), 0px 1px 3px 1px rgba(60, 64, 67, 0.15);\n",
              "      fill: #174EA6;\n",
              "    }\n",
              "\n",
              "    [theme=dark] .colab-df-convert {\n",
              "      background-color: #3B4455;\n",
              "      fill: #D2E3FC;\n",
              "    }\n",
              "\n",
              "    [theme=dark] .colab-df-convert:hover {\n",
              "      background-color: #434B5C;\n",
              "      box-shadow: 0px 1px 3px 1px rgba(0, 0, 0, 0.15);\n",
              "      filter: drop-shadow(0px 1px 2px rgba(0, 0, 0, 0.3));\n",
              "      fill: #FFFFFF;\n",
              "    }\n",
              "  </style>\n",
              "\n",
              "      <script>\n",
              "        const buttonEl =\n",
              "          document.querySelector('#df-1be52992-f28f-4807-97f0-3c46763de8bf button.colab-df-convert');\n",
              "        buttonEl.style.display =\n",
              "          google.colab.kernel.accessAllowed ? 'block' : 'none';\n",
              "\n",
              "        async function convertToInteractive(key) {\n",
              "          const element = document.querySelector('#df-1be52992-f28f-4807-97f0-3c46763de8bf');\n",
              "          const dataTable =\n",
              "            await google.colab.kernel.invokeFunction('convertToInteractive',\n",
              "                                                     [key], {});\n",
              "          if (!dataTable) return;\n",
              "\n",
              "          const docLinkHtml = 'Like what you see? Visit the ' +\n",
              "            '<a target=\"_blank\" href=https://colab.research.google.com/notebooks/data_table.ipynb>data table notebook</a>'\n",
              "            + ' to learn more about interactive tables.';\n",
              "          element.innerHTML = '';\n",
              "          dataTable['output_type'] = 'display_data';\n",
              "          await google.colab.output.renderOutput(dataTable, element);\n",
              "          const docLink = document.createElement('div');\n",
              "          docLink.innerHTML = docLinkHtml;\n",
              "          element.appendChild(docLink);\n",
              "        }\n",
              "      </script>\n",
              "    </div>\n",
              "  </div>\n",
              "  "
            ]
          },
          "metadata": {},
          "execution_count": 14
        }
      ]
    },
    {
      "cell_type": "code",
      "source": [
        "inner_merged['note'].value_counts()"
      ],
      "metadata": {
        "colab": {
          "base_uri": "https://localhost:8080/"
        },
        "id": "HI_cM2FTEZ9I",
        "outputId": "066d7664-46b3-4e7d-d350-3e4e837a099a"
      },
      "id": "HI_cM2FTEZ9I",
      "execution_count": null,
      "outputs": [
        {
          "output_type": "execute_result",
          "data": {
            "text/plain": [
              "5.0    9275\n",
              "4.0    7147\n",
              "3.0    2281\n",
              "2.0    1215\n",
              "1.0     760\n",
              "0.0     664\n",
              "Name: note, dtype: int64"
            ]
          },
          "metadata": {},
          "execution_count": 17
        }
      ]
    },
    {
      "cell_type": "code",
      "source": [
        "miss=0\n",
        "exact=0\n",
        "for i in range(21342):\n",
        "  note=inner_merged['note'][i]\n",
        "  res =inner_merged['res'][i]\n",
        "\n",
        "  if res ==1:\n",
        "    if note in [4,5]:\n",
        "      exact+=1\n",
        "    elif note in [0,1,2]:\n",
        "      miss+=1\n",
        "    else:\n",
        "      pass\n",
        "\n",
        "  else:\n",
        "    if note in [0,1,2]:\n",
        "      exact+=1\n",
        "    elif note in [4,5]:\n",
        "      miss+=1\n",
        "    else:\n",
        "      pass\n",
        "\n",
        "\n"
      ],
      "metadata": {
        "id": "Vp5ypv1rCtBq"
      },
      "id": "Vp5ypv1rCtBq",
      "execution_count": null,
      "outputs": []
    },
    {
      "cell_type": "code",
      "source": [
        "from matplotlib import pyplot as plt\n",
        "import seaborn as sns\n",
        "\n",
        "print(miss)\n",
        "print(exact)\n",
        "\n",
        "lab=['miss','exact']\n",
        "ax = sns.barplot(x=np.arange(len([miss,exact])), y=[miss,exact],label=lab)\n",
        "ax.set_title('nomber of exact and miss reviews rank')\n",
        "#ax.set_yticks(y_pos, labels=lab)\n",
        "plt.axis('on')\n",
        "plt.show()"
      ],
      "metadata": {
        "colab": {
          "base_uri": "https://localhost:8080/",
          "height": 296
        },
        "id": "4V-8pXALFVry",
        "outputId": "eea3df6d-9bf5-4996-e833-1c99afed4182"
      },
      "id": "4V-8pXALFVry",
      "execution_count": null,
      "outputs": [
        {
          "output_type": "stream",
          "name": "stdout",
          "text": [
            "9410\n",
            "11932\n"
          ]
        },
        {
          "output_type": "display_data",
          "data": {
            "text/plain": [
              "<Figure size 504x252 with 1 Axes>"
            ],
            "image/png": "[encoded data removed]"
          },
          "metadata": {
            "needs_background": "light"
          }
        }
      ]
    },
    {
      "cell_type": "code",
      "source": [
        "# importing library\n",
        "import matplotlib.pyplot as plt\n",
        "\n",
        "# function to add value labels\n",
        "def addlabels(x,y):\n",
        "    for i in range(len(x)):\n",
        "        plt.text(i,y[i],y[i])\n",
        "\n",
        "if __name__ == '__main__':\n",
        "    # creating data on which bar chart will be plot\n",
        "    x = ['miss','exact']\n",
        "\n",
        "    y = [miss,exact]\n",
        "\n",
        "    # making the bar chart on the data\n",
        "    plt.bar(x, y)\n",
        "\n",
        "    # calling the function to add value labels\n",
        "    addlabels(x, y)\n",
        "\n",
        "    # giving title to the plot\n",
        "    plt.title(\"nomber of exact and miss reviews rank\")\n",
        "\n",
        "    # giving X and Y labels\n",
        "    # plt.xlabel(\"Courses\")\n",
        "    # plt.ylabel(\"Number of Admissions\")\n",
        "\n",
        "    # visualizing the plot\n",
        "    plt.show()"
      ],
      "metadata": {
        "colab": {
          "base_uri": "https://localhost:8080/",
          "height": 261
        },
        "id": "472NbyYHLB5V",
        "outputId": "cbeb6804-74a5-4bcf-f93a-a6cba10b2919"
      },
      "id": "472NbyYHLB5V",
      "execution_count": null,
      "outputs": [
        {
          "output_type": "display_data",
          "data": {
            "text/plain": [
              "<Figure size 504x252 with 1 Axes>"
            ],
            "image/png": "[encoded data removed]"
          },
          "metadata": {
            "needs_background": "light"
          }
        }
      ]
    },
    {
      "cell_type": "code",
      "source": [
        "inner_merged['note'].value_counts().plot(kind='bar')\n"
      ],
      "metadata": {
        "colab": {
          "base_uri": "https://localhost:8080/",
          "height": 288
        },
        "id": "-fdVAdwzFtE_",
        "outputId": "163eac60-ffe7-40e7-dcef-fb0ca6a68b2d"
      },
      "id": "-fdVAdwzFtE_",
      "execution_count": null,
      "outputs": [
        {
          "output_type": "execute_result",
          "data": {
            "text/plain": [
              "<matplotlib.axes._subplots.AxesSubplot at 0x7f173d910ac0>"
            ]
          },
          "metadata": {},
          "execution_count": 22
        },
        {
          "output_type": "display_data",
          "data": {
            "text/plain": [
              "<Figure size 432x288 with 1 Axes>"
            ],
            "image/png": "[encoded data removed]"
          },
          "metadata": {
            "needs_background": "light"
          }
        }
      ]
    },
    {
      "cell_type": "code",
      "source": [
        "inner_merged['res'].value_counts().plot(kind='bar')"
      ],
      "metadata": {
        "colab": {
          "base_uri": "https://localhost:8080/",
          "height": 288
        },
        "id": "4vIxJq4KF6YX",
        "outputId": "0f169859-bc8c-451d-ceff-32c7fde91fcb"
      },
      "id": "4vIxJq4KF6YX",
      "execution_count": null,
      "outputs": [
        {
          "output_type": "execute_result",
          "data": {
            "text/plain": [
              "<matplotlib.axes._subplots.AxesSubplot at 0x7f173d3a88e0>"
            ]
          },
          "metadata": {},
          "execution_count": 23
        },
        {
          "output_type": "display_data",
          "data": {
            "text/plain": [
              "<Figure size 432x288 with 1 Axes>"
            ],
            "image/png": "[encoded data removed]"
          },
          "metadata": {
            "needs_background": "light"
          }
        }
      ]
    },
    {
      "cell_type": "markdown",
      "metadata": {
        "id": "8trVM-r03HcQ"
      },
      "source": [
        "# **Topic classification**"
      ],
      "id": "8trVM-r03HcQ"
    },
    {
      "cell_type": "markdown",
      "source": [
        "The first model:flaubert-mlsum-topic-classification"
      ],
      "metadata": {
        "id": "NJEr3V6acJXj"
      },
      "id": "NJEr3V6acJXj"
    },
    {
      "cell_type": "code",
      "execution_count": null,
      "metadata": {
        "id": "FKYGYsCP3G0t"
      },
      "outputs": [],
      "source": [
        "from transformers import AutoTokenizer, AutoModelForSequenceClassification\n",
        "from transformers import TextClassificationPipeline\n",
        "\n",
        "model_name = 'lincoln/flaubert-mlsum-topic-classification'\n",
        "\n",
        "loaded_tokenizer = AutoTokenizer.from_pretrained(model_name)\n",
        "loaded_model = AutoModelForSequenceClassification.from_pretrained(model_name)\n",
        "\n",
        "topicModel = TextClassificationPipeline(model=loaded_model, tokenizer=loaded_tokenizer)\n"
      ],
      "id": "FKYGYsCP3G0t"
    },
    {
      "cell_type": "code",
      "execution_count": null,
      "metadata": {
        "colab": {
          "base_uri": "https://localhost:8080/"
        },
        "id": "r-6Gb07cl7nD",
        "outputId": "deb53a82-3d31-4267-d238-813e37037ac3"
      },
      "outputs": [
        {
          "data": {
            "text/plain": [
              "[{'label': 'Culture', 'score': 0.9798879623413086}]"
            ]
          },
          "execution_count": 67,
          "metadata": {},
          "output_type": "execute_result"
        }
      ],
      "source": [
        "topicModel(mm, truncation=True)\n"
      ],
      "id": "r-6Gb07cl7nD"
    },
    {
      "cell_type": "markdown",
      "source": [
        "The second model: bertopic"
      ],
      "metadata": {
        "id": "RB7PUU3scTLm"
      },
      "id": "RB7PUU3scTLm"
    },
    {
      "cell_type": "code",
      "execution_count": null,
      "metadata": {
        "id": "SwO5Vypdslnu"
      },
      "outputs": [],
      "source": [
        "!pip install bertopic\n",
        "!pip install bertopic[flair]\n",
        "!pip install bertopic[gensim]\n",
        "!pip install bertopic[spacy]\n",
        "!pip install bertopic[use]"
      ],
      "id": "SwO5Vypdslnu"
    },
    {
      "cell_type": "code",
      "execution_count": null,
      "metadata": {
        "id": "qakjm8fo5uFU"
      },
      "outputs": [],
      "source": [
        "docs=alocineDataset['review'].tolist()\n",
        "docs"
      ],
      "id": "qakjm8fo5uFU"
    },
    {
      "cell_type": "code",
      "execution_count": null,
      "metadata": {
        "id": "iBnW_CYctRxF"
      },
      "outputs": [],
      "source": [
        "from bertopic import BERTopic\n",
        "\n",
        "docs=alocineDataset['review'].tolist()\n",
        "topic_Model = BERTopic(nr_topics=10,language=\"multilingual\")\n"
      ],
      "id": "iBnW_CYctRxF"
    },
    {
      "cell_type": "code",
      "execution_count": null,
      "metadata": {
        "id": "Zm9Gs9L2dysk"
      },
      "outputs": [],
      "source": [
        "\n",
        "movie=alocineDataset['MovieName'].tolist()\n",
        "movie=list(set(movie))\n",
        "nb=len(movie)\n",
        "topicsMv=[]\n",
        "for i in range(nb):\n",
        "    moviestopic={}\n",
        "    moviestopic['Id_mov']=i\n",
        "    moviestopic['MovieName']=movie[i]\n",
        "\n",
        "    mv1comm=alocineDataset.loc[alocineDataset['MovieName'] == movie[i]]\n",
        "    commv1=mv1comm['review'].tolist()\n",
        "    topics, probs = topic_Model.fit_transform(commv1)\n",
        "\n",
        "    try:\n",
        "      moviestopic['Topic']=topic_Model.get_topic(2)[0][0]\n",
        "    except:\n",
        "        moviestopic['Topic']=''\n",
        "    topicsMv.append(moviestopic)\n",
        "    print(i)\n",
        "\n"
      ],
      "id": "Zm9Gs9L2dysk"
    }
  ],
  "metadata": {
    "colab": {
      "provenance": []
    },
    "kernelspec": {
      "display_name": "Python 3 (ipykernel)",
      "language": "python",
      "name": "python3"
    },
    "language_info": {
      "codemirror_mode": {
        "name": "ipython",
        "version": 3
      },
      "file_extension": ".py",
      "mimetype": "text/x-python",
      "name": "python",
      "nbconvert_exporter": "python",
      "pygments_lexer": "ipython3",
      "version": "3.9.12"
    }
  },
  "nbformat": 4,
  "nbformat_minor": 5
}